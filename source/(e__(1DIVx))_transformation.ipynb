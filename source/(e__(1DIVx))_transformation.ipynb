{
 "cells": [
  {
   "cell_type": "code",
   "execution_count": 1,
   "metadata": {},
   "outputs": [
    {
     "name": "stderr",
     "output_type": "stream",
     "text": [
      "Using TensorFlow backend.\n",
      "/home/antonis/anaconda2/envs/kaggle/lib/python3.6/importlib/_bootstrap.py:205: RuntimeWarning: compiletime version 3.5 of module 'tensorflow.python.framework.fast_tensor_util' does not match runtime version 3.6\n",
      "  return f(*args, **kwds)\n"
     ]
    }
   ],
   "source": [
    "# 1 Import libraries and modules + custom function definitions\n",
    "\n",
    "import numpy as np\n",
    "np.random.seed(123)  # for reproducibility\n",
    "from keras.models import Sequential\n",
    "from keras.optimizers import *\n",
    "from keras.regularizers import l2\n",
    "from keras.layers import *\n",
    "from keras.utils.np_utils import to_categorical\n",
    "from keras import regularizers\n",
    "from keras.preprocessing.image import ImageDataGenerator\n",
    "from keras.preprocessing.image import load_img, img_to_array\n",
    "from skimage.io import imread\n",
    "from sklearn.model_selection import train_test_split\n",
    "import pandas as pd\n",
    "import keras\n",
    "import glob\n",
    "import platform\n",
    "\n",
    "def reshape_to_view_img(img):\n",
    "    '''\n",
    "    Given an image of dimensions (x,y,1)\n",
    "    convert it to (x,y) to be able to view it\n",
    "    '''\n",
    "    \n",
    "    (x,y) = (img.shape[0],img.shape[1])\n",
    "    return np.reshape(img,(x,-1,))"
   ]
  },
  {
   "cell_type": "code",
   "execution_count": 2,
   "metadata": {
    "collapsed": true
   },
   "outputs": [],
   "source": [
    "import os\n",
    "import matplotlib.pyplot as plt\n",
    "%matplotlib inline\n",
    "from keras.callbacks import ReduceLROnPlateau,EarlyStopping"
   ]
  },
  {
   "cell_type": "code",
   "execution_count": 3,
   "metadata": {},
   "outputs": [
    {
     "name": "stdout",
     "output_type": "stream",
     "text": [
      "[name: \"/device:CPU:0\"\n",
      "device_type: \"CPU\"\n",
      "memory_limit: 268435456\n",
      "locality {\n",
      "}\n",
      "incarnation: 15952797368417500996\n",
      ", name: \"/device:GPU:0\"\n",
      "device_type: \"GPU\"\n",
      "memory_limit: 78249984\n",
      "locality {\n",
      "  bus_id: 1\n",
      "}\n",
      "incarnation: 688468256266613664\n",
      "physical_device_desc: \"device: 0, name: GeForce GTX 1050, pci bus id: 0000:01:00.0, compute capability: 6.1\"\n",
      "]\n"
     ]
    }
   ],
   "source": [
    "#verify GPU is up n running\n",
    "from tensorflow.python.client import device_lib\n",
    "print(device_lib.list_local_devices())"
   ]
  },
  {
   "cell_type": "code",
   "execution_count": 4,
   "metadata": {
    "collapsed": true
   },
   "outputs": [],
   "source": [
    "# 2 Load data + initialize variables\n",
    "\n",
    "train_labels = pd.read_csv('train_onelabel.csv',index_col='image')\n",
    "get_class_of = train_labels['class'].to_dict()                                             #dict image->class\n",
    "get_images_of = train_labels.groupby('class').apply(lambda x: x.values.tolist()).to_dict() #dict ???\n",
    "\n",
    "input_size = (64, 64)\n",
    "output_size = len(list(train_labels['class'].unique()))\n",
    "\n",
    "label_map = pd.read_csv('label_map.txt',header=None,names=['name','id'],sep=' ')\n",
    "get_name_of_class = label_map['name'].to_dict()\n",
    "''' get_name_of_class[9] >> 'ctenophore_cydippid_tentacles' '''\n",
    "get_class_name_of = {v: k for k, v in get_name_of_class.items()}\n",
    "''' get_class_name_of['ctenophore_cydippid_tentacles'] >> 9 '''\n",
    "\n",
    "training_paths_list = glob.glob('competition_data/train_images/*')     #normal (not numpy) list of str  \n",
    "test_set_list = glob.glob('competition_data/test_images/*')          #normal (not numpy) list of str \n",
    "\n",
    "# savedmodelpath = 'trainHistory/12-08 18.54, train_err=0.70, test_err=0.73double_kernel_size_termatismeno.h5'"
   ]
  },
  {
   "cell_type": "code",
   "execution_count": 5,
   "metadata": {
    "collapsed": true
   },
   "outputs": [],
   "source": [
    "#model parameters\n",
    "batch_size=64\n",
    "reg_lambda = 0.01/255\n",
    "dropout_value=0.25"
   ]
  },
  {
   "cell_type": "code",
   "execution_count": 6,
   "metadata": {
    "collapsed": true
   },
   "outputs": [],
   "source": [
    "#handle imbalanced classes\n",
    "\n",
    "#Read training data\n",
    "df = pd.read_csv('train_onelabel.csv',index_col='image')\n",
    "\n",
    "class_counts = df['class'].value_counts()\n",
    "# class_weights = np.log(class_counts)"
   ]
  },
  {
   "cell_type": "code",
   "execution_count": 7,
   "metadata": {
    "scrolled": true
   },
   "outputs": [
    {
     "name": "stdout",
     "output_type": "stream",
     "text": [
      "58     1.000633\n",
      "84     1.000643\n",
      "105    1.001037\n",
      "12     1.001060\n",
      "45     1.001373\n",
      "3      1.001411\n",
      "101    1.001423\n",
      "99     1.001552\n",
      "34     1.001750\n",
      "67     1.001753\n",
      "26     1.001787\n",
      "100    1.001794\n",
      "8      1.001817\n",
      "117    1.001847\n",
      "27     1.002018\n",
      "70     1.002339\n",
      "21     1.002356\n",
      "32     1.002442\n",
      "53     1.002528\n",
      "49     1.002554\n",
      "61     1.002656\n",
      "31     1.002837\n",
      "36     1.002963\n",
      "104    1.002972\n",
      "11     1.003091\n",
      "0      1.003110\n",
      "119    1.003180\n",
      "6      1.003241\n",
      "113    1.003396\n",
      "81     1.003490\n",
      "         ...   \n",
      "77     1.029849\n",
      "69     1.031743\n",
      "25     1.032784\n",
      "96     1.035084\n",
      "98     1.035084\n",
      "87     1.037731\n",
      "108    1.039211\n",
      "55     1.042547\n",
      "107    1.044437\n",
      "82     1.044437\n",
      "102    1.044437\n",
      "86     1.046503\n",
      "15     1.051271\n",
      "90     1.051271\n",
      "48     1.054041\n",
      "115    1.057128\n",
      "57     1.057128\n",
      "83     1.064494\n",
      "33     1.068939\n",
      "120    1.079959\n",
      "79     1.079959\n",
      "62     1.095169\n",
      "30     1.095169\n",
      "13     1.105171\n",
      "95     1.117519\n",
      "65     1.117519\n",
      "106    1.117519\n",
      "41     1.153565\n",
      "85     1.153565\n",
      "10     1.153565\n",
      "Name: class, Length: 121, dtype: float64\n"
     ]
    }
   ],
   "source": [
    "\n",
    "class_weights = np.e**(1/class_counts)\n",
    "print(class_weights)\n",
    "class_weights = class_weights.to_dict()"
   ]
  },
  {
   "cell_type": "code",
   "execution_count": null,
   "metadata": {
    "collapsed": true
   },
   "outputs": [],
   "source": []
  },
  {
   "cell_type": "code",
   "execution_count": null,
   "metadata": {
    "collapsed": true
   },
   "outputs": [],
   "source": []
  },
  {
   "cell_type": "code",
   "execution_count": 8,
   "metadata": {
    "collapsed": true
   },
   "outputs": [],
   "source": [
    "class_counts = df['class'].value_counts()"
   ]
  },
  {
   "cell_type": "code",
   "execution_count": 9,
   "metadata": {},
   "outputs": [
    {
     "data": {
      "text/plain": [
       "<matplotlib.axes._subplots.AxesSubplot at 0x7f89639a2128>"
      ]
     },
     "execution_count": 9,
     "metadata": {},
     "output_type": "execute_result"
    },
    {
     "data": {
      "image/png": "[encoded data removed]",
      "text/plain": [
       "<matplotlib.figure.Figure at 0x7f897017c9b0>"
      ]
     },
     "metadata": {},
     "output_type": "display_data"
    }
   ],
   "source": [
    "class_weights = np.log(class_counts)\n",
    "class_weights.hist()"
   ]
  },
  {
   "cell_type": "code",
   "execution_count": 10,
   "metadata": {
    "collapsed": true
   },
   "outputs": [],
   "source": [
    "# 3 Load & Preprocess input data\n",
    "\n",
    "def inverse_grayscale(pixel_value):\n",
    "    return (255.-pixel_value)\n",
    "def inverse_scale_center(pixel_value):\n",
    "    return (((255.-pixel_value)/255)-0.5)\n",
    "v_inverse_grayscale = np.vectorize(inverse_grayscale)\n",
    "v_inverse_scale_center = np.vectorize(inverse_scale_center)\n",
    "\n",
    "input_size = (64,64)      # ! parameter\n",
    "training_images = (load_img(p, target_size=input_size, grayscale=True) for p in training_paths_list)\n",
    "traning_images_array = np.array([img_to_array(im) for im in training_images]) #numpy array of numpy arrays (pictures) (X_train)\n",
    "del training_images\n",
    "\n",
    "test_images = (load_img(p, target_size=input_size,grayscale=True) for p in test_set_list)\n",
    "test_images_array = np.array([img_to_array(im) for im in test_images])\n",
    "del test_images\n",
    "\n",
    "if (platform.system()=='Windows'):\n",
    "    all_labels = list(map(lambda p: get_class_of[p.split('\\\\')[-1]] , training_paths_list))\n",
    "else:\n",
    "    all_labels = list(map(lambda p: get_class_of[p.split('/')[-1]] , training_paths_list))\n",
    "\n",
    "traning_images_array = v_inverse_scale_center(traning_images_array)   #apply inverse grayscale transformation before splitting to train+validation\n",
    "test_images_array = v_inverse_scale_center(test_images_array)         #apply inverse grayscale transformation to test data as well\n",
    "\n",
    "# We will take ALL images for the final training\n",
    "# traning_images_array, validation_images_array, train_labels , validation_labels = train_test_split(traning_images_array, \n",
    "#                                                                                                    to_categorical(all_labels), \n",
    "#                                                                                                    stratify=to_categorical(all_labels), \n",
    "#                                                                                                    test_size=0.2, random_state=41)\n",
    "\n",
    "#split training and cross validation data\n",
    "\n",
    "\n",
    "traning_images_array = traning_images_array.astype('float32')\n",
    "# validation_images_array = validation_images_array.astype('float32')\n",
    "test_images_array = test_images_array.astype('float32')\n"
   ]
  },
  {
   "cell_type": "code",
   "execution_count": 11,
   "metadata": {},
   "outputs": [
    {
     "data": {
      "text/plain": [
       "(24204, 64, 64, 1)"
      ]
     },
     "execution_count": 11,
     "metadata": {},
     "output_type": "execute_result"
    }
   ],
   "source": [
    "traning_images_array.shape"
   ]
  },
  {
   "cell_type": "code",
   "execution_count": 12,
   "metadata": {},
   "outputs": [
    {
     "data": {
      "text/plain": [
       "(24204, 1)"
      ]
     },
     "execution_count": 12,
     "metadata": {},
     "output_type": "execute_result"
    }
   ],
   "source": [
    "train_labels.shape"
   ]
  },
  {
   "cell_type": "code",
   "execution_count": 13,
   "metadata": {
    "collapsed": true
   },
   "outputs": [],
   "source": [
    "# Image Augmentation\n",
    "train_datagen = ImageDataGenerator(rotation_range=90,\n",
    "                                   featurewise_center=True,\n",
    "                                   featurewise_std_normalization=True,\n",
    "                                    samplewise_std_normalization=False,\n",
    "                                    samplewise_center=False,\n",
    "                                   #rescale=1./255.,\n",
    "                                   #zca_whitening=True,\n",
    "                                   horizontal_flip=True,\n",
    "                                   vertical_flip=False,\n",
    "                                   zoom_range=0.1,\n",
    "                                   width_shift_range=0.2,\n",
    "                                   height_shift_range=0.2,\n",
    "                                   shear_range = (20/360)*(2*np.pi)\n",
    "                                )\n",
    "\n",
    "\n",
    "test_datagen = ImageDataGenerator(\n",
    "            featurewise_center=True,\n",
    "            featurewise_std_normalization=True,\n",
    "            samplewise_std_normalization=False,\n",
    "            samplewise_center=False,\n",
    "        )\n",
    "\n",
    "# test_datagen2 = ImageDataGenerator(\n",
    "#             featurewise_center=True,\n",
    "#             featurewise_std_normalization=True,\n",
    "#             samplewise_std_normalization=False,\n",
    "#             samplewise_center=False,\n",
    "#         )\n",
    "\n",
    "\n",
    "\n",
    "train_datagen.fit(traning_images_array)    #used for zca whitening/featurewise_center & normalization\n",
    "\n",
    "#apply 2nd fit\n",
    "\n",
    "#tran_dataset: fit στα a)train, b)test data\n",
    "#a\n",
    "#test_datagen.fit(train_images_array)\n",
    "#b\n",
    "test_datagen.fit(test_images_array)\n",
    "\n",
    "# test_datagen.fit(test_images_array)\n",
    "# test_datagen2.fit(traning_images_array)\n",
    "\n",
    "####\n",
    "\n",
    "# validation_images_array = validation_images_array.astype('float32')\n",
    "# val_datagen = ImageDataGenerator(\n",
    "#             featurewise_center=True,\n",
    "#             featurewise_std_normalization=True,\n",
    "#             samplewise_std_normalization=False,\n",
    "#             samplewise_center=False,\n",
    "#         )\n",
    "# val_datagen.fit(validation_images_array)    #used for zca whitening/featurewise_center & normalization\n",
    "\n",
    "\n"
   ]
  },
  {
   "cell_type": "code",
   "execution_count": 14,
   "metadata": {
    "scrolled": true
   },
   "outputs": [
    {
     "data": {
      "text/plain": [
       "(24204, 64, 64, 1)"
      ]
     },
     "execution_count": 14,
     "metadata": {},
     "output_type": "execute_result"
    }
   ],
   "source": [
    "traning_images_array.shape"
   ]
  },
  {
   "cell_type": "code",
   "execution_count": 15,
   "metadata": {},
   "outputs": [
    {
     "data": {
      "text/plain": [
       "(24204, 1)"
      ]
     },
     "execution_count": 15,
     "metadata": {},
     "output_type": "execute_result"
    }
   ],
   "source": [
    "train_labels.shape"
   ]
  },
  {
   "cell_type": "code",
   "execution_count": 16,
   "metadata": {},
   "outputs": [
    {
     "data": {
      "text/plain": [
       "(24204, 121)"
      ]
     },
     "execution_count": 16,
     "metadata": {},
     "output_type": "execute_result"
    }
   ],
   "source": [
    "to_categorical(train_labels).shape"
   ]
  },
  {
   "cell_type": "code",
   "execution_count": 17,
   "metadata": {},
   "outputs": [
    {
     "data": {
      "text/plain": [
       "1.0"
      ]
     },
     "execution_count": 17,
     "metadata": {},
     "output_type": "execute_result"
    }
   ],
   "source": [
    "to_categorical(train_labels).item(0)"
   ]
  },
  {
   "cell_type": "code",
   "execution_count": 18,
   "metadata": {
    "collapsed": true
   },
   "outputs": [],
   "source": [
    "# 4 Define model architecture\n",
    "\n",
    "model = Sequential()\n",
    "model.add(InputLayer(input_shape=input_size + (1,)))\n",
    "model.add(Convolution2D(12, (3,3), padding='same', \n",
    "                 kernel_regularizer=regularizers.l2(reg_lambda),\n",
    "                 activation='relu'))\n",
    "model.add(MaxPooling2D((2, 2)))       # 32x32x12\n",
    "\n",
    "model.add(Convolution2D(24, (3, 3), padding='same',\n",
    "                kernel_regularizer=regularizers.l2(reg_lambda),\n",
    "                activation='relu'))\n",
    "model.add(MaxPooling2D((2,2)))        # 16x16x24 \n",
    "\n",
    "model.add(Convolution2D(48, (3, 3), padding='same',\n",
    "                kernel_regularizer=regularizers.l2(reg_lambda),\n",
    "                activation='relu'))\n",
    "model.add(MaxPooling2D((2,2)))        # 8x8x48\n",
    "\n",
    "model.add(Convolution2D(96, (3, 3), padding='same',\n",
    "                kernel_regularizer=regularizers.l2(reg_lambda),\n",
    "                activation='relu'))\n",
    "model.add(MaxPooling2D((2,2)))        # 4x4x96\n",
    "model.add(Dropout(dropout_value))\n",
    "\n",
    "model.add(Flatten())\n",
    "model.add(Dense(256, activation='relu',\n",
    "                kernel_regularizer=regularizers.l2(reg_lambda)))\n",
    "model.add(Dropout(2*dropout_value))\n",
    "model.add(Dense(256, activation='relu',\n",
    "                kernel_regularizer=regularizers.l2(reg_lambda)))\n",
    "model.add(Dense(121, activation='softmax'))"
   ]
  },
  {
   "cell_type": "code",
   "execution_count": 19,
   "metadata": {},
   "outputs": [
    {
     "name": "stdout",
     "output_type": "stream",
     "text": [
      "_________________________________________________________________\n",
      "Layer (type)                 Output Shape              Param #   \n",
      "=================================================================\n",
      "input_1 (InputLayer)         (None, 64, 64, 1)         0         \n",
      "_________________________________________________________________\n",
      "conv2d_1 (Conv2D)            (None, 64, 64, 12)        120       \n",
      "_________________________________________________________________\n",
      "max_pooling2d_1 (MaxPooling2 (None, 32, 32, 12)        0         \n",
      "_________________________________________________________________\n",
      "conv2d_2 (Conv2D)            (None, 32, 32, 24)        2616      \n",
      "_________________________________________________________________\n",
      "max_pooling2d_2 (MaxPooling2 (None, 16, 16, 24)        0         \n",
      "_________________________________________________________________\n",
      "conv2d_3 (Conv2D)            (None, 16, 16, 48)        10416     \n",
      "_________________________________________________________________\n",
      "max_pooling2d_3 (MaxPooling2 (None, 8, 8, 48)          0         \n",
      "_________________________________________________________________\n",
      "conv2d_4 (Conv2D)            (None, 8, 8, 96)          41568     \n",
      "_________________________________________________________________\n",
      "max_pooling2d_4 (MaxPooling2 (None, 4, 4, 96)          0         \n",
      "_________________________________________________________________\n",
      "dropout_1 (Dropout)          (None, 4, 4, 96)          0         \n",
      "_________________________________________________________________\n",
      "flatten_1 (Flatten)          (None, 1536)              0         \n",
      "_________________________________________________________________\n",
      "dense_1 (Dense)              (None, 256)               393472    \n",
      "_________________________________________________________________\n",
      "dropout_2 (Dropout)          (None, 256)               0         \n",
      "_________________________________________________________________\n",
      "dense_2 (Dense)              (None, 256)               65792     \n",
      "_________________________________________________________________\n",
      "dense_3 (Dense)              (None, 121)               31097     \n",
      "=================================================================\n",
      "Total params: 545,081\n",
      "Trainable params: 545,081\n",
      "Non-trainable params: 0\n",
      "_________________________________________________________________\n"
     ]
    }
   ],
   "source": [
    "model.summary()"
   ]
  },
  {
   "cell_type": "code",
   "execution_count": 20,
   "metadata": {
    "collapsed": true
   },
   "outputs": [],
   "source": [
    "# 5 Compile model\n",
    "\n",
    "#RMSprop(lr=0.003)\n",
    "#model.compile(loss='categorical_crossentropy', optimizer='rmsprop', metrics=['accuracy'])\n",
    "\n",
    "model.compile(optimizer=keras.optimizers.Adam(), loss='categorical_crossentropy', metrics=['accuracy'])\n",
    "\n",
    "#Adam(lr=0.003, beta_1=0.9, beta_2=0.999, epsilon=1, decay=0.0)\n",
    "#model.compile(loss='categorical_crossentropy', optimizer='Adam', metrics=['accuracy'])\n",
    "\n",
    "#SGD(lr=0.01, momentum=0.0, decay=0.0, nesterov=True)\n",
    "#SGD(lr=0.01, momentum=0.0, decay=0.0, nesterov=True)\n",
    "#model.compile(loss='categorical_crossentropy', optimizer='sgd', metrics=['accuracy'])\n",
    "\n",
    "#Adagrad(lr=0.001, epsilon=1e-08, decay=0.0)\n",
    "#Adagrad(lr=0.003, epsilon=1, decay=0.0)\n",
    "#model.compile(loss='categorical_crossentropy', optimizer='AdaGrad', metrics=['accuracy'])\n",
    "\n",
    "\n",
    "# #create a new learning curve\n",
    "learn_curve = pd.DataFrame(columns=['train', 'train_rolling',])"
   ]
  },
  {
   "cell_type": "code",
   "execution_count": 21,
   "metadata": {
    "collapsed": true
   },
   "outputs": [],
   "source": [
    "reduceLR = ReduceLROnPlateau(monitor='loss', factor=0.2, verbose=1, patience=5, min_lr=1e-7)"
   ]
  },
  {
   "cell_type": "code",
   "execution_count": 22,
   "metadata": {},
   "outputs": [
    {
     "data": {
      "text/plain": [
       "(24204, 64, 64, 1)"
      ]
     },
     "execution_count": 22,
     "metadata": {},
     "output_type": "execute_result"
    }
   ],
   "source": [
    "traning_images_array.shape"
   ]
  },
  {
   "cell_type": "code",
   "execution_count": 23,
   "metadata": {},
   "outputs": [
    {
     "data": {
      "text/plain": [
       "'/home/antonis/ipython notebooks/UvA/AML/kaggle/ocean-health'"
      ]
     },
     "execution_count": 23,
     "metadata": {},
     "output_type": "execute_result"
    }
   ],
   "source": [
    "cwd = os.getcwd()\n",
    "cwd"
   ]
  },
  {
   "cell_type": "code",
   "execution_count": 25,
   "metadata": {},
   "outputs": [
    {
     "name": "stdout",
     "output_type": "stream",
     "text": [
      "Training\n",
      "Epoch 1/200\n",
      "378/378 [==============================] - 7s 19ms/step - loss: 2.6845 - acc: 0.3094\n",
      "Epoch 2/200\n",
      "378/378 [==============================] - 7s 19ms/step - loss: 2.4297 - acc: 0.3511\n",
      "Epoch 3/200\n",
      "378/378 [==============================] - 7s 19ms/step - loss: 2.2970 - acc: 0.3779\n",
      "Epoch 4/200\n",
      "378/378 [==============================] - 7s 19ms/step - loss: 2.2075 - acc: 0.3985\n",
      "Epoch 5/200\n",
      "378/378 [==============================] - 7s 19ms/step - loss: 2.1261 - acc: 0.4179\n",
      "Epoch 6/200\n",
      "378/378 [==============================] - 7s 19ms/step - loss: 2.0606 - acc: 0.4359\n",
      "Epoch 7/200\n",
      "378/378 [==============================] - 7s 19ms/step - loss: 2.0175 - acc: 0.4474\n",
      "Epoch 8/200\n",
      "378/378 [==============================] - 7s 19ms/step - loss: 1.9554 - acc: 0.4594\n",
      "Epoch 9/200\n",
      "378/378 [==============================] - 7s 19ms/step - loss: 1.9281 - acc: 0.4661\n",
      "Epoch 10/200\n",
      "378/378 [==============================] - 7s 18ms/step - loss: 1.9044 - acc: 0.4713\n",
      "Epoch 11/200\n",
      "378/378 [==============================] - 7s 18ms/step - loss: 1.8632 - acc: 0.4849\n",
      "Epoch 12/200\n",
      "378/378 [==============================] - 7s 18ms/step - loss: 1.8295 - acc: 0.4910\n",
      "Epoch 13/200\n",
      "378/378 [==============================] - 7s 18ms/step - loss: 1.8136 - acc: 0.4995\n",
      "Epoch 14/200\n",
      "378/378 [==============================] - 7s 19ms/step - loss: 1.7927 - acc: 0.5014\n",
      "Epoch 15/200\n",
      "378/378 [==============================] - 7s 18ms/step - loss: 1.7807 - acc: 0.5097\n",
      "Epoch 16/200\n",
      "378/378 [==============================] - 7s 18ms/step - loss: 1.7475 - acc: 0.5150\n",
      "Epoch 17/200\n",
      "378/378 [==============================] - 7s 18ms/step - loss: 1.7284 - acc: 0.5222\n",
      "Epoch 18/200\n",
      "378/378 [==============================] - 7s 18ms/step - loss: 1.7214 - acc: 0.5215\n",
      "Epoch 19/200\n",
      "378/378 [==============================] - 7s 18ms/step - loss: 1.6921 - acc: 0.5266\n",
      "Epoch 20/200\n",
      "378/378 [==============================] - 7s 18ms/step - loss: 1.6961 - acc: 0.5255\n",
      "Epoch 21/200\n",
      "378/378 [==============================] - 7s 18ms/step - loss: 1.6746 - acc: 0.5346\n",
      "Epoch 22/200\n",
      "378/378 [==============================] - 7s 18ms/step - loss: 1.6695 - acc: 0.5330\n",
      "Epoch 23/200\n",
      "378/378 [==============================] - 7s 18ms/step - loss: 1.6624 - acc: 0.5407\n",
      "Epoch 24/200\n",
      "378/378 [==============================] - 7s 18ms/step - loss: 1.6395 - acc: 0.5432\n",
      "Epoch 25/200\n",
      "378/378 [==============================] - 7s 18ms/step - loss: 1.6386 - acc: 0.5402\n",
      "Epoch 26/200\n",
      "378/378 [==============================] - 7s 18ms/step - loss: 1.6239 - acc: 0.5496\n",
      "Epoch 27/200\n",
      "378/378 [==============================] - 7s 18ms/step - loss: 1.6302 - acc: 0.5440\n",
      "Epoch 28/200\n",
      "378/378 [==============================] - 7s 18ms/step - loss: 1.6208 - acc: 0.5489\n",
      "Epoch 29/200\n",
      "378/378 [==============================] - 7s 18ms/step - loss: 1.6037 - acc: 0.5549\n",
      "Epoch 30/200\n",
      "378/378 [==============================] - 7s 19ms/step - loss: 1.6020 - acc: 0.5565\n",
      "Epoch 31/200\n",
      "378/378 [==============================] - 7s 19ms/step - loss: 1.5928 - acc: 0.5582\n",
      "Epoch 32/200\n",
      "378/378 [==============================] - 7s 18ms/step - loss: 1.5791 - acc: 0.5616\n",
      "Epoch 33/200\n",
      "378/378 [==============================] - 7s 18ms/step - loss: 1.5863 - acc: 0.5608\n",
      "Epoch 34/200\n",
      "378/378 [==============================] - 7s 18ms/step - loss: 1.5767 - acc: 0.5628\n",
      "Epoch 35/200\n",
      "378/378 [==============================] - 7s 18ms/step - loss: 1.5666 - acc: 0.5634\n",
      "Epoch 36/200\n",
      "378/378 [==============================] - 7s 18ms/step - loss: 1.5577 - acc: 0.5671\n",
      "Epoch 37/200\n",
      "378/378 [==============================] - 7s 18ms/step - loss: 1.5647 - acc: 0.5650\n",
      "Epoch 38/200\n",
      "378/378 [==============================] - 7s 18ms/step - loss: 1.5640 - acc: 0.5675\n",
      "Epoch 39/200\n",
      "378/378 [==============================] - 7s 18ms/step - loss: 1.5423 - acc: 0.5719\n",
      "Epoch 40/200\n",
      "378/378 [==============================] - 7s 18ms/step - loss: 1.5497 - acc: 0.5674\n",
      "Epoch 41/200\n",
      "378/378 [==============================] - 7s 19ms/step - loss: 1.5440 - acc: 0.5734\n",
      "Epoch 42/200\n",
      "378/378 [==============================] - 7s 19ms/step - loss: 1.5334 - acc: 0.5763\n",
      "Epoch 43/200\n",
      "378/378 [==============================] - 7s 19ms/step - loss: 1.5238 - acc: 0.5762\n",
      "Epoch 44/200\n",
      "378/378 [==============================] - 7s 19ms/step - loss: 1.5321 - acc: 0.5740\n",
      "Epoch 45/200\n",
      "378/378 [==============================] - 7s 19ms/step - loss: 1.5198 - acc: 0.5816\n",
      "Epoch 46/200\n",
      "378/378 [==============================] - 7s 18ms/step - loss: 1.5153 - acc: 0.5812\n",
      "Epoch 47/200\n",
      "378/378 [==============================] - 7s 18ms/step - loss: 1.5203 - acc: 0.5795\n",
      "Epoch 48/200\n",
      "378/378 [==============================] - 7s 18ms/step - loss: 1.5268 - acc: 0.5801\n",
      "Epoch 49/200\n",
      "378/378 [==============================] - 7s 18ms/step - loss: 1.5105 - acc: 0.5837\n",
      "Epoch 50/200\n",
      "378/378 [==============================] - 7s 19ms/step - loss: 1.5090 - acc: 0.5822\n",
      "Epoch 51/200\n",
      "378/378 [==============================] - 7s 19ms/step - loss: 1.4961 - acc: 0.5871\n",
      "Epoch 52/200\n",
      "378/378 [==============================] - 7s 19ms/step - loss: 1.5069 - acc: 0.5856\n",
      "Epoch 53/200\n",
      "378/378 [==============================] - 7s 19ms/step - loss: 1.4919 - acc: 0.5888\n",
      "Epoch 54/200\n",
      "378/378 [==============================] - 7s 19ms/step - loss: 1.5161 - acc: 0.5825\n",
      "Epoch 55/200\n",
      "378/378 [==============================] - 7s 19ms/step - loss: 1.4824 - acc: 0.5883\n",
      "Epoch 56/200\n",
      "378/378 [==============================] - 7s 19ms/step - loss: 1.4933 - acc: 0.5876\n",
      "Epoch 57/200\n",
      "378/378 [==============================] - 7s 19ms/step - loss: 1.4989 - acc: 0.5847\n",
      "Epoch 58/200\n",
      "378/378 [==============================] - 7s 19ms/step - loss: 1.4860 - acc: 0.5865\n",
      "Epoch 59/200\n",
      "378/378 [==============================] - 7s 19ms/step - loss: 1.4749 - acc: 0.5913\n",
      "Epoch 60/200\n",
      "378/378 [==============================] - 7s 19ms/step - loss: 1.4799 - acc: 0.5902\n",
      "Epoch 61/200\n",
      "378/378 [==============================] - 7s 19ms/step - loss: 1.4851 - acc: 0.5917\n",
      "Epoch 62/200\n",
      "378/378 [==============================] - 7s 19ms/step - loss: 1.4838 - acc: 0.5885\n",
      "Epoch 63/200\n",
      "378/378 [==============================] - 7s 19ms/step - loss: 1.4770 - acc: 0.5948\n",
      "Epoch 64/200\n",
      "378/378 [==============================] - 7s 19ms/step - loss: 1.4708 - acc: 0.5928\n",
      "Epoch 65/200\n",
      "378/378 [==============================] - 7s 19ms/step - loss: 1.4819 - acc: 0.5941\n",
      "Epoch 66/200\n",
      "378/378 [==============================] - 7s 19ms/step - loss: 1.4626 - acc: 0.5982\n",
      "Epoch 67/200\n",
      "378/378 [==============================] - 7s 19ms/step - loss: 1.4622 - acc: 0.5981\n",
      "Epoch 68/200\n",
      "378/378 [==============================] - 7s 19ms/step - loss: 1.4627 - acc: 0.5951\n",
      "Epoch 69/200\n",
      "378/378 [==============================] - 7s 19ms/step - loss: 1.4587 - acc: 0.5957\n",
      "Epoch 70/200\n",
      "378/378 [==============================] - 7s 19ms/step - loss: 1.4720 - acc: 0.5935\n",
      "Epoch 71/200\n",
      "378/378 [==============================] - 7s 19ms/step - loss: 1.4645 - acc: 0.5963\n",
      "Epoch 72/200\n",
      "378/378 [==============================] - 7s 19ms/step - loss: 1.4601 - acc: 0.5960\n",
      "Epoch 73/200\n",
      "378/378 [==============================] - 7s 19ms/step - loss: 1.4654 - acc: 0.6006\n",
      "Epoch 74/200\n",
      "378/378 [==============================] - 7s 19ms/step - loss: 1.4515 - acc: 0.5986\n",
      "Epoch 75/200\n",
      "378/378 [==============================] - 7s 18ms/step - loss: 1.4502 - acc: 0.5960\n",
      "Epoch 76/200\n",
      "378/378 [==============================] - 7s 18ms/step - loss: 1.4523 - acc: 0.5975\n",
      "Epoch 77/200\n",
      "378/378 [==============================] - 7s 18ms/step - loss: 1.4570 - acc: 0.5955\n",
      "Epoch 78/200\n",
      "378/378 [==============================] - 7s 19ms/step - loss: 1.4515 - acc: 0.6051\n",
      "Epoch 79/200\n",
      "378/378 [==============================] - 7s 19ms/step - loss: 1.4464 - acc: 0.6061\n",
      "Epoch 80/200\n",
      "378/378 [==============================] - 7s 19ms/step - loss: 1.4466 - acc: 0.5984\n",
      "Epoch 81/200\n",
      "378/378 [==============================] - 7s 19ms/step - loss: 1.4434 - acc: 0.6001\n",
      "Epoch 82/200\n",
      "378/378 [==============================] - 7s 19ms/step - loss: 1.4391 - acc: 0.6067\n",
      "Epoch 83/200\n",
      "378/378 [==============================] - 7s 19ms/step - loss: 1.4478 - acc: 0.6010\n",
      "Epoch 84/200\n",
      "378/378 [==============================] - 7s 19ms/step - loss: 1.4547 - acc: 0.5989\n",
      "Epoch 85/200\n",
      "378/378 [==============================] - 7s 19ms/step - loss: 1.4442 - acc: 0.6036\n",
      "Epoch 86/200\n",
      "378/378 [==============================] - 7s 19ms/step - loss: 1.4480 - acc: 0.6033\n",
      "Epoch 87/200\n",
      "378/378 [==============================] - 7s 18ms/step - loss: 1.4319 - acc: 0.6059\n",
      "Epoch 88/200\n",
      "378/378 [==============================] - 7s 18ms/step - loss: 1.4362 - acc: 0.6049\n",
      "Epoch 89/200\n",
      "378/378 [==============================] - 7s 18ms/step - loss: 1.4382 - acc: 0.6019\n",
      "Epoch 90/200\n",
      "378/378 [==============================] - 7s 18ms/step - loss: 1.4441 - acc: 0.6036\n",
      "Epoch 91/200\n",
      "378/378 [==============================] - 7s 18ms/step - loss: 1.4329 - acc: 0.6059\n",
      "Epoch 92/200\n",
      "378/378 [==============================] - 7s 19ms/step - loss: 1.4371 - acc: 0.6038\n",
      "Epoch 93/200\n",
      "378/378 [==============================] - 7s 19ms/step - loss: 1.4398 - acc: 0.6036\n",
      "Epoch 94/200\n",
      "378/378 [==============================] - 7s 19ms/step - loss: 1.4166 - acc: 0.6100\n",
      "Epoch 95/200\n",
      "378/378 [==============================] - 7s 19ms/step - loss: 1.4234 - acc: 0.6062\n",
      "Epoch 96/200\n",
      "378/378 [==============================] - 7s 19ms/step - loss: 1.4487 - acc: 0.6035\n",
      "Epoch 97/200\n",
      "378/378 [==============================] - 7s 19ms/step - loss: 1.4382 - acc: 0.6045\n",
      "Epoch 98/200\n",
      "378/378 [==============================] - 7s 19ms/step - loss: 1.4302 - acc: 0.6087\n",
      "Epoch 99/200\n",
      "378/378 [==============================] - 8s 20ms/step - loss: 1.4337 - acc: 0.6076\n",
      "Epoch 100/200\n",
      "378/378 [==============================] - 7s 20ms/step - loss: 1.4238 - acc: 0.6111\n",
      "Epoch 101/200\n",
      "378/378 [==============================] - 7s 19ms/step - loss: 1.4161 - acc: 0.6116\n",
      "Epoch 102/200\n",
      "378/378 [==============================] - 7s 19ms/step - loss: 1.4280 - acc: 0.6085\n",
      "Epoch 103/200\n",
      "378/378 [==============================] - 7s 19ms/step - loss: 1.4338 - acc: 0.6075\n",
      "Epoch 104/200\n",
      "378/378 [==============================] - 7s 19ms/step - loss: 1.4001 - acc: 0.6138\n",
      "Epoch 105/200\n",
      "378/378 [==============================] - 7s 19ms/step - loss: 1.4405 - acc: 0.6054\n",
      "Epoch 106/200\n",
      "378/378 [==============================] - 7s 19ms/step - loss: 1.4223 - acc: 0.6069\n",
      "Epoch 107/200\n",
      "378/378 [==============================] - 7s 19ms/step - loss: 1.4238 - acc: 0.6096\n",
      "Epoch 108/200\n",
      "378/378 [==============================] - 7s 19ms/step - loss: 1.4175 - acc: 0.6096\n",
      "Epoch 109/200\n",
      "378/378 [==============================] - 7s 19ms/step - loss: 1.4200 - acc: 0.6113\n",
      "Epoch 110/200\n",
      "378/378 [==============================] - 7s 19ms/step - loss: 1.4207 - acc: 0.6097\n",
      "Epoch 111/200\n",
      "378/378 [==============================] - 7s 19ms/step - loss: 1.4150 - acc: 0.6119\n",
      "Epoch 112/200\n",
      "378/378 [==============================] - 7s 19ms/step - loss: 1.4276 - acc: 0.6090\n",
      "Epoch 113/200\n",
      "378/378 [==============================] - 7s 19ms/step - loss: 1.4062 - acc: 0.6151\n",
      "Epoch 114/200\n",
      "378/378 [==============================] - 7s 18ms/step - loss: 1.4113 - acc: 0.6095\n",
      "Epoch 115/200\n",
      "378/378 [==============================] - 7s 19ms/step - loss: 1.4215 - acc: 0.6104\n",
      "Epoch 116/200\n",
      "378/378 [==============================] - 7s 19ms/step - loss: 1.4031 - acc: 0.6134\n",
      "Epoch 117/200\n",
      "378/378 [==============================] - 7s 19ms/step - loss: 1.4179 - acc: 0.6122\n",
      "Epoch 118/200\n",
      "378/378 [==============================] - 7s 19ms/step - loss: 1.4118 - acc: 0.6112\n",
      "Epoch 119/200\n",
      "378/378 [==============================] - 7s 18ms/step - loss: 1.4072 - acc: 0.6157\n",
      "Epoch 120/200\n",
      "378/378 [==============================] - 7s 19ms/step - loss: 1.4200 - acc: 0.6136\n",
      "Epoch 121/200\n",
      "378/378 [==============================] - 7s 19ms/step - loss: 1.4146 - acc: 0.6173\n",
      "Epoch 122/200\n",
      "378/378 [==============================] - 7s 19ms/step - loss: 1.3987 - acc: 0.6154\n",
      "Epoch 123/200\n",
      "378/378 [==============================] - 7s 19ms/step - loss: 1.4060 - acc: 0.6175\n",
      "Epoch 124/200\n",
      "378/378 [==============================] - 7s 19ms/step - loss: 1.3886 - acc: 0.6193\n",
      "Epoch 125/200\n",
      "378/378 [==============================] - 7s 19ms/step - loss: 1.4221 - acc: 0.6129\n",
      "Epoch 126/200\n",
      "378/378 [==============================] - 7s 19ms/step - loss: 1.3992 - acc: 0.6178\n",
      "Epoch 127/200\n",
      "378/378 [==============================] - 8s 20ms/step - loss: 1.4142 - acc: 0.6120\n",
      "Epoch 128/200\n",
      "378/378 [==============================] - 7s 20ms/step - loss: 1.4115 - acc: 0.6132\n",
      "Epoch 129/200\n",
      "378/378 [==============================] - 7s 19ms/step - loss: 1.3937 - acc: 0.6211\n",
      "Epoch 130/200\n",
      "378/378 [==============================] - 7s 19ms/step - loss: 1.3886 - acc: 0.6215\n",
      "Epoch 131/200\n",
      "378/378 [==============================] - 7s 19ms/step - loss: 1.3932 - acc: 0.6179\n",
      "Epoch 132/200\n",
      "378/378 [==============================] - 7s 19ms/step - loss: 1.4075 - acc: 0.6137\n",
      "Epoch 133/200\n",
      "378/378 [==============================] - 7s 19ms/step - loss: 1.3917 - acc: 0.6193\n",
      "Epoch 134/200\n",
      "378/378 [==============================] - 7s 19ms/step - loss: 1.3959 - acc: 0.6170\n",
      "Epoch 135/200\n",
      "378/378 [==============================] - 8s 20ms/step - loss: 1.3984 - acc: 0.6136\n",
      "Epoch 136/200\n",
      "378/378 [==============================] - 7s 20ms/step - loss: 1.4026 - acc: 0.6122\n",
      "Epoch 137/200\n",
      "378/378 [==============================] - 7s 19ms/step - loss: 1.4031 - acc: 0.6153\n",
      "Epoch 138/200\n",
      "378/378 [==============================] - 7s 19ms/step - loss: 1.3815 - acc: 0.6221\n",
      "Epoch 139/200\n",
      "378/378 [==============================] - 7s 19ms/step - loss: 1.3897 - acc: 0.6220\n",
      "Epoch 140/200\n",
      "378/378 [==============================] - 7s 19ms/step - loss: 1.4084 - acc: 0.6124\n",
      "Epoch 141/200\n",
      "378/378 [==============================] - 7s 19ms/step - loss: 1.3839 - acc: 0.6207\n",
      "Epoch 142/200\n",
      "378/378 [==============================] - 7s 19ms/step - loss: 1.3898 - acc: 0.6219\n",
      "Epoch 143/200\n",
      "378/378 [==============================] - 7s 19ms/step - loss: 1.3835 - acc: 0.6202\n",
      "Epoch 144/200\n",
      "378/378 [==============================] - 7s 19ms/step - loss: 1.3873 - acc: 0.6189\n",
      "Epoch 145/200\n",
      "378/378 [==============================] - 7s 19ms/step - loss: 1.3952 - acc: 0.6198\n",
      "Epoch 146/200\n",
      "378/378 [==============================] - 7s 19ms/step - loss: 1.3880 - acc: 0.6193\n",
      "Epoch 147/200\n",
      "378/378 [==============================] - 7s 19ms/step - loss: 1.3938 - acc: 0.6194\n",
      "Epoch 148/200\n",
      "378/378 [==============================] - 8s 20ms/step - loss: 1.3964 - acc: 0.6165\n",
      "Epoch 149/200\n",
      "378/378 [==============================] - 8s 20ms/step - loss: 1.3783 - acc: 0.6221\n",
      "Epoch 150/200\n",
      "378/378 [==============================] - 8s 20ms/step - loss: 1.3910 - acc: 0.6212\n",
      "Epoch 151/200\n",
      "378/378 [==============================] - 7s 19ms/step - loss: 1.3883 - acc: 0.6194\n",
      "Epoch 152/200\n",
      "378/378 [==============================] - 7s 19ms/step - loss: 1.3957 - acc: 0.6206\n",
      "Epoch 153/200\n",
      "378/378 [==============================] - 7s 20ms/step - loss: 1.3757 - acc: 0.6243\n",
      "Epoch 154/200\n",
      "378/378 [==============================] - 7s 20ms/step - loss: 1.3937 - acc: 0.6201\n",
      "Epoch 155/200\n",
      "378/378 [==============================] - 7s 20ms/step - loss: 1.3821 - acc: 0.6229\n",
      "Epoch 156/200\n",
      "378/378 [==============================] - 7s 19ms/step - loss: 1.3858 - acc: 0.6206\n",
      "Epoch 157/200\n",
      "378/378 [==============================] - 7s 19ms/step - loss: 1.3801 - acc: 0.6241\n",
      "Epoch 158/200\n",
      "378/378 [==============================] - 7s 20ms/step - loss: 1.3848 - acc: 0.6188\n",
      "Epoch 159/200\n",
      "378/378 [==============================] - 7s 20ms/step - loss: 1.3918 - acc: 0.6198\n",
      "Epoch 160/200\n",
      "378/378 [==============================] - 7s 19ms/step - loss: 1.3859 - acc: 0.6200\n",
      "Epoch 161/200\n",
      "378/378 [==============================] - 7s 19ms/step - loss: 1.3908 - acc: 0.6206\n",
      "Epoch 162/200\n",
      "378/378 [==============================] - 8s 20ms/step - loss: 1.3906 - acc: 0.6186\n",
      "Epoch 163/200\n",
      "378/378 [==============================] - 8s 20ms/step - loss: 1.3604 - acc: 0.6288\n",
      "Epoch 164/200\n",
      "378/378 [==============================] - 8s 21ms/step - loss: 1.3823 - acc: 0.6187\n",
      "Epoch 165/200\n",
      "378/378 [==============================] - 8s 21ms/step - loss: 1.3760 - acc: 0.6232\n",
      "Epoch 166/200\n",
      "378/378 [==============================] - 8s 21ms/step - loss: 1.3711 - acc: 0.6270\n",
      "Epoch 167/200\n"
     ]
    },
    {
     "name": "stdout",
     "output_type": "stream",
     "text": [
      "378/378 [==============================] - 8s 20ms/step - loss: 1.3644 - acc: 0.6284\n",
      "Epoch 168/200\n",
      "378/378 [==============================] - 8s 20ms/step - loss: 1.3799 - acc: 0.6228\n",
      "Epoch 169/200\n",
      "378/378 [==============================] - 7s 19ms/step - loss: 1.3711 - acc: 0.6244\n",
      "Epoch 170/200\n",
      "378/378 [==============================] - 7s 20ms/step - loss: 1.3742 - acc: 0.6246\n",
      "Epoch 171/200\n",
      "378/378 [==============================] - 8s 21ms/step - loss: 1.3834 - acc: 0.6194\n",
      "Epoch 172/200\n",
      "378/378 [==============================] - 8s 20ms/step - loss: 1.3681 - acc: 0.6249\n",
      "Epoch 173/200\n",
      "378/378 [==============================] - 7s 19ms/step - loss: 1.3758 - acc: 0.6232\n",
      "Epoch 174/200\n",
      "378/378 [==============================] - 7s 18ms/step - loss: 1.3791 - acc: 0.6225\n",
      "Epoch 175/200\n",
      "378/378 [==============================] - 7s 19ms/step - loss: 1.3696 - acc: 0.6270\n",
      "Epoch 176/200\n",
      "378/378 [==============================] - 7s 18ms/step - loss: 1.3690 - acc: 0.6227\n",
      "Epoch 177/200\n",
      "378/378 [==============================] - 7s 18ms/step - loss: 1.3729 - acc: 0.6274\n",
      "Epoch 178/200\n",
      "378/378 [==============================] - 7s 19ms/step - loss: 1.3747 - acc: 0.6261\n",
      "Epoch 179/200\n",
      "378/378 [==============================] - 7s 19ms/step - loss: 1.3809 - acc: 0.6198\n",
      "Epoch 180/200\n",
      "378/378 [==============================] - 7s 19ms/step - loss: 1.3702 - acc: 0.6267\n",
      "Epoch 181/200\n",
      "378/378 [==============================] - 7s 19ms/step - loss: 1.3775 - acc: 0.6229\n",
      "Epoch 182/200\n",
      "378/378 [==============================] - 8s 20ms/step - loss: 1.3837 - acc: 0.6185: 0s - loss: 1.3832 - acc\n",
      "Epoch 183/200\n",
      "378/378 [==============================] - 8s 20ms/step - loss: 1.3728 - acc: 0.6248\n",
      "Epoch 184/200\n",
      "378/378 [==============================] - 7s 19ms/step - loss: 1.3702 - acc: 0.6265\n",
      "Epoch 185/200\n",
      "378/378 [==============================] - 7s 19ms/step - loss: 1.3684 - acc: 0.6229\n",
      "Epoch 186/200\n",
      "378/378 [==============================] - 7s 19ms/step - loss: 1.3654 - acc: 0.6302\n",
      "Epoch 187/200\n",
      "378/378 [==============================] - 7s 19ms/step - loss: 1.3623 - acc: 0.6260\n",
      "Epoch 188/200\n",
      "378/378 [==============================] - 7s 19ms/step - loss: 1.3648 - acc: 0.6269\n",
      "Epoch 189/200\n",
      "378/378 [==============================] - 7s 19ms/step - loss: 1.3612 - acc: 0.6275\n",
      "Epoch 190/200\n",
      "378/378 [==============================] - 7s 19ms/step - loss: 1.3741 - acc: 0.6250\n",
      "Epoch 191/200\n",
      "378/378 [==============================] - 7s 19ms/step - loss: 1.3600 - acc: 0.6287\n",
      "Epoch 192/200\n",
      "378/378 [==============================] - 7s 19ms/step - loss: 1.3688 - acc: 0.6225\n",
      "Epoch 193/200\n",
      "378/378 [==============================] - 8s 20ms/step - loss: 1.3640 - acc: 0.6234\n",
      "Epoch 194/200\n",
      "378/378 [==============================] - 7s 19ms/step - loss: 1.3660 - acc: 0.6268\n",
      "Epoch 195/200\n",
      "378/378 [==============================] - 7s 19ms/step - loss: 1.3678 - acc: 0.6228\n",
      "Epoch 196/200\n",
      "378/378 [==============================] - 7s 18ms/step - loss: 1.3577 - acc: 0.6270\n",
      "Epoch 197/200\n",
      "378/378 [==============================] - 7s 19ms/step - loss: 1.3647 - acc: 0.6247\n",
      "Epoch 198/200\n",
      "378/378 [==============================] - 7s 19ms/step - loss: 1.3600 - acc: 0.6259\n",
      "Epoch 199/200\n",
      "378/378 [==============================] - 7s 19ms/step - loss: 1.3598 - acc: 0.6283\n",
      "Epoch 200/200\n",
      "378/378 [==============================] - 7s 18ms/step - loss: 1.3542 - acc: 0.6287\n"
     ]
    }
   ],
   "source": [
    "\n",
    "print('Training')\n",
    "mod_history = model.fit_generator(train_datagen.flow(traning_images_array, \n",
    "                                                    to_categorical(all_labels), \n",
    "                                                    batch_size=batch_size),\n",
    "                                    steps_per_epoch=int(traning_images_array.shape[0]/batch_size),\n",
    "                                    epochs=200, initial_epoch=0,\n",
    "                                    verbose=1,\n",
    "                                    class_weight=class_weights,\n",
    "                                    #callbacks = [reduceLR]\n",
    "                                    #validation_data=val_generator,\n",
    "                                    #validation_steps=int(validation_images_array.shape[0]/batch_size)+1\n",
    "                                 )\n"
   ]
  },
  {
   "cell_type": "code",
   "execution_count": 26,
   "metadata": {},
   "outputs": [
    {
     "name": "stderr",
     "output_type": "stream",
     "text": [
      "/home/antonis/anaconda2/envs/kaggle/lib/python3.6/site-packages/ipykernel/__main__.py:4: FutureWarning: pd.rolling_mean is deprecated for Series and will be removed in a future version, replace with \n",
      "\tSeries.rolling(window=5,center=False).mean()\n"
     ]
    },
    {
     "data": {
      "text/plain": [
       "<matplotlib.legend.Legend at 0x7f8925874400>"
      ]
     },
     "execution_count": 26,
     "metadata": {},
     "output_type": "execute_result"
    },
    {
     "data": {
      "image/png": "[encoded data removed]",
      "text/plain": [
       "<matplotlib.figure.Figure at 0x7f89639134a8>"
      ]
     },
     "metadata": {},
     "output_type": "display_data"
    }
   ],
   "source": [
    "# append new values to a learning curve (extend epochs to see progress)\n",
    "learn_curve_new = pd.DataFrame()\n",
    "learn_curve_new['train'] = mod_history.history['acc']\n",
    "learn_curve_new['train_rolling'] = pd.rolling_mean(learn_curve_new.train,window=5)\n",
    "#append to previous df\n",
    "learn_curve = learn_curve.append(learn_curve_new,ignore_index=True)\n",
    "# Plot the learning curve\n",
    "fig = plt.figure(figsize=(15, 10))\n",
    "plt.plot(learn_curve['train'], lw=1, label='train')\n",
    "plt.plot(learn_curve['train_rolling'], lw=4, label='train_rolling',alpha=.5)\n",
    "plt.legend(loc='best', fontsize=16)"
   ]
  },
  {
   "cell_type": "code",
   "execution_count": null,
   "metadata": {
    "collapsed": true
   },
   "outputs": [],
   "source": []
  },
  {
   "cell_type": "code",
   "execution_count": 28,
   "metadata": {
    "collapsed": true
   },
   "outputs": [],
   "source": [
    "reduceLR = ReduceLROnPlateau(monitor='loss', factor=0.2, verbose=1, patience=10, min_lr=1e-7)"
   ]
  },
  {
   "cell_type": "code",
   "execution_count": 29,
   "metadata": {
    "scrolled": true
   },
   "outputs": [
    {
     "name": "stdout",
     "output_type": "stream",
     "text": [
      "Training\n",
      "Epoch 201/400\n",
      "378/378 [==============================] - 7s 19ms/step - loss: 1.3662 - acc: 0.6285\n",
      "Epoch 202/400\n",
      "378/378 [==============================] - 7s 19ms/step - loss: 1.3619 - acc: 0.6278\n",
      "Epoch 203/400\n",
      "378/378 [==============================] - 7s 19ms/step - loss: 1.3637 - acc: 0.6277\n",
      "Epoch 204/400\n",
      "378/378 [==============================] - 7s 19ms/step - loss: 1.3710 - acc: 0.6241\n",
      "Epoch 205/400\n",
      "378/378 [==============================] - 7s 19ms/step - loss: 1.3619 - acc: 0.6279\n",
      "Epoch 206/400\n",
      "378/378 [==============================] - 7s 19ms/step - loss: 1.3676 - acc: 0.6295\n",
      "Epoch 207/400\n",
      "378/378 [==============================] - 7s 19ms/step - loss: 1.3604 - acc: 0.6300\n",
      "Epoch 208/400\n",
      "378/378 [==============================] - 7s 19ms/step - loss: 1.3719 - acc: 0.6289\n",
      "Epoch 209/400\n",
      "378/378 [==============================] - 7s 20ms/step - loss: 1.3629 - acc: 0.6264\n",
      "Epoch 210/400\n",
      "378/378 [==============================] - 7s 19ms/step - loss: 1.3588 - acc: 0.6275\n",
      "Epoch 211/400\n",
      "378/378 [==============================] - 7s 19ms/step - loss: 1.3684 - acc: 0.6269\n",
      "Epoch 212/400\n",
      "378/378 [==============================] - 7s 19ms/step - loss: 1.3588 - acc: 0.6301\n",
      "Epoch 213/400\n",
      "378/378 [==============================] - 7s 19ms/step - loss: 1.3679 - acc: 0.6256\n",
      "Epoch 214/400\n",
      "378/378 [==============================] - 7s 19ms/step - loss: 1.3617 - acc: 0.6301\n",
      "Epoch 215/400\n",
      "378/378 [==============================] - 7s 19ms/step - loss: 1.3569 - acc: 0.6324\n",
      "Epoch 216/400\n",
      "378/378 [==============================] - 7s 19ms/step - loss: 1.3524 - acc: 0.6283\n",
      "Epoch 217/400\n",
      "378/378 [==============================] - 7s 19ms/step - loss: 1.3559 - acc: 0.6318\n",
      "Epoch 218/400\n",
      "378/378 [==============================] - 7s 19ms/step - loss: 1.3548 - acc: 0.6292\n",
      "Epoch 219/400\n",
      "378/378 [==============================] - 7s 19ms/step - loss: 1.3675 - acc: 0.6272\n",
      "Epoch 220/400\n",
      "378/378 [==============================] - 7s 19ms/step - loss: 1.3511 - acc: 0.6289\n",
      "Epoch 221/400\n",
      "378/378 [==============================] - 7s 19ms/step - loss: 1.3618 - acc: 0.6258\n",
      "Epoch 222/400\n",
      "378/378 [==============================] - 7s 19ms/step - loss: 1.3433 - acc: 0.6378\n",
      "Epoch 223/400\n",
      "378/378 [==============================] - 7s 19ms/step - loss: 1.3555 - acc: 0.6234\n",
      "Epoch 224/400\n",
      "378/378 [==============================] - 7s 19ms/step - loss: 1.3687 - acc: 0.6263\n",
      "Epoch 225/400\n",
      "378/378 [==============================] - 8s 20ms/step - loss: 1.3520 - acc: 0.6318\n",
      "Epoch 226/400\n",
      "378/378 [==============================] - 7s 20ms/step - loss: 1.3667 - acc: 0.6282\n",
      "Epoch 227/400\n",
      "378/378 [==============================] - 8s 22ms/step - loss: 1.3511 - acc: 0.6326\n",
      "Epoch 228/400\n",
      "378/378 [==============================] - 8s 21ms/step - loss: 1.3775 - acc: 0.6246\n",
      "Epoch 229/400\n",
      "378/378 [==============================] - 12s 32ms/step - loss: 1.3488 - acc: 0.6333 0s - loss: 1.3473 - ac\n",
      "Epoch 230/400\n",
      "378/378 [==============================] - 11s 30ms/step - loss: 1.3749 - acc: 0.6240\n",
      "Epoch 231/400\n",
      "378/378 [==============================] - 10s 27ms/step - loss: 1.3446 - acc: 0.6333\n",
      "Epoch 232/400\n",
      "378/378 [==============================] - 9s 23ms/step - loss: 1.3563 - acc: 0.6306\n",
      "Epoch 233/400\n",
      "376/378 [============================>.] - ETA: 0s - loss: 1.3632 - acc: 0.6283\n",
      "Epoch 00233: reducing learning rate to 0.00020000000949949026.\n",
      "378/378 [==============================] - 9s 23ms/step - loss: 1.3634 - acc: 0.6283\n",
      "Epoch 234/400\n",
      "378/378 [==============================] - 9s 23ms/step - loss: 1.2889 - acc: 0.6479\n",
      "Epoch 235/400\n",
      "378/378 [==============================] - 8s 22ms/step - loss: 1.2579 - acc: 0.6583\n",
      "Epoch 236/400\n",
      "378/378 [==============================] - 8s 21ms/step - loss: 1.2499 - acc: 0.6552\n",
      "Epoch 237/400\n",
      "378/378 [==============================] - 9s 23ms/step - loss: 1.2418 - acc: 0.6589\n",
      "Epoch 238/400\n",
      "378/378 [==============================] - 9s 23ms/step - loss: 1.2380 - acc: 0.6595\n",
      "Epoch 239/400\n",
      "378/378 [==============================] - 8s 22ms/step - loss: 1.2370 - acc: 0.6575\n",
      "Epoch 240/400\n",
      "378/378 [==============================] - 8s 21ms/step - loss: 1.2213 - acc: 0.6615\n",
      "Epoch 241/400\n",
      "378/378 [==============================] - 7s 20ms/step - loss: 1.2327 - acc: 0.6599\n",
      "Epoch 242/400\n",
      "378/378 [==============================] - 8s 20ms/step - loss: 1.2136 - acc: 0.6696\n",
      "Epoch 243/400\n",
      "378/378 [==============================] - 8s 20ms/step - loss: 1.2102 - acc: 0.6626\n",
      "Epoch 244/400\n",
      "378/378 [==============================] - 7s 20ms/step - loss: 1.2146 - acc: 0.6639\n",
      "Epoch 245/400\n",
      "378/378 [==============================] - 7s 20ms/step - loss: 1.2099 - acc: 0.6632\n",
      "Epoch 246/400\n",
      "378/378 [==============================] - 8s 21ms/step - loss: 1.1962 - acc: 0.6712\n",
      "Epoch 247/400\n",
      "378/378 [==============================] - 8s 20ms/step - loss: 1.1998 - acc: 0.6648\n",
      "Epoch 248/400\n",
      "378/378 [==============================] - 8s 21ms/step - loss: 1.2053 - acc: 0.6672\n",
      "Epoch 249/400\n",
      "378/378 [==============================] - 8s 20ms/step - loss: 1.1778 - acc: 0.6725\n",
      "Epoch 250/400\n",
      "378/378 [==============================] - 8s 20ms/step - loss: 1.1835 - acc: 0.6673\n",
      "Epoch 251/400\n",
      "378/378 [==============================] - 7s 19ms/step - loss: 1.1874 - acc: 0.6700\n",
      "Epoch 252/400\n",
      "378/378 [==============================] - 7s 19ms/step - loss: 1.1794 - acc: 0.6703\n",
      "Epoch 253/400\n",
      "378/378 [==============================] - 8s 20ms/step - loss: 1.1804 - acc: 0.6704\n",
      "Epoch 254/400\n",
      "378/378 [==============================] - 8s 22ms/step - loss: 1.1729 - acc: 0.6729\n",
      "Epoch 255/400\n",
      "378/378 [==============================] - 8s 20ms/step - loss: 1.1690 - acc: 0.6698\n",
      "Epoch 256/400\n",
      "378/378 [==============================] - 8s 20ms/step - loss: 1.1769 - acc: 0.6692\n",
      "Epoch 257/400\n",
      "378/378 [==============================] - 7s 20ms/step - loss: 1.1736 - acc: 0.6722\n",
      "Epoch 258/400\n",
      "378/378 [==============================] - 8s 20ms/step - loss: 1.1754 - acc: 0.6712\n",
      "Epoch 259/400\n",
      "378/378 [==============================] - 8s 21ms/step - loss: 1.1761 - acc: 0.6688\n",
      "Epoch 260/400\n",
      "378/378 [==============================] - 8s 20ms/step - loss: 1.1561 - acc: 0.6763\n",
      "Epoch 261/400\n",
      "378/378 [==============================] - 8s 21ms/step - loss: 1.1610 - acc: 0.6725\n",
      "Epoch 262/400\n",
      "378/378 [==============================] - 8s 21ms/step - loss: 1.1650 - acc: 0.6753\n",
      "Epoch 263/400\n",
      "378/378 [==============================] - 8s 21ms/step - loss: 1.1698 - acc: 0.6703\n",
      "Epoch 264/400\n",
      "378/378 [==============================] - 8s 21ms/step - loss: 1.1529 - acc: 0.6769\n",
      "Epoch 265/400\n",
      "378/378 [==============================] - 8s 20ms/step - loss: 1.1678 - acc: 0.6709\n",
      "Epoch 266/400\n",
      "378/378 [==============================] - 7s 19ms/step - loss: 1.1565 - acc: 0.6726\n",
      "Epoch 267/400\n",
      "378/378 [==============================] - 8s 20ms/step - loss: 1.1551 - acc: 0.6762\n",
      "Epoch 268/400\n",
      "378/378 [==============================] - 8s 21ms/step - loss: 1.1596 - acc: 0.6744\n",
      "Epoch 269/400\n",
      "378/378 [==============================] - 8s 21ms/step - loss: 1.1424 - acc: 0.6774\n",
      "Epoch 270/400\n",
      "378/378 [==============================] - 8s 20ms/step - loss: 1.1516 - acc: 0.6770\n",
      "Epoch 271/400\n",
      "378/378 [==============================] - 8s 20ms/step - loss: 1.1495 - acc: 0.6757\n",
      "Epoch 272/400\n",
      "378/378 [==============================] - 8s 20ms/step - loss: 1.1456 - acc: 0.6756\n",
      "Epoch 273/400\n",
      "378/378 [==============================] - 8s 21ms/step - loss: 1.1475 - acc: 0.6767\n",
      "Epoch 274/400\n",
      "378/378 [==============================] - 8s 21ms/step - loss: 1.1293 - acc: 0.6795\n",
      "Epoch 275/400\n",
      "378/378 [==============================] - 8s 22ms/step - loss: 1.1416 - acc: 0.6750\n",
      "Epoch 276/400\n",
      "378/378 [==============================] - 8s 21ms/step - loss: 1.1396 - acc: 0.6780\n",
      "Epoch 277/400\n",
      "378/378 [==============================] - 8s 20ms/step - loss: 1.1500 - acc: 0.6735\n",
      "Epoch 278/400\n",
      "378/378 [==============================] - 8s 20ms/step - loss: 1.1318 - acc: 0.6802\n",
      "Epoch 279/400\n",
      "378/378 [==============================] - 8s 20ms/step - loss: 1.1329 - acc: 0.6801\n",
      "Epoch 280/400\n",
      "378/378 [==============================] - 8s 20ms/step - loss: 1.1364 - acc: 0.6772\n",
      "Epoch 281/400\n",
      "378/378 [==============================] - 8s 21ms/step - loss: 1.1398 - acc: 0.6766\n"
     ]
    },
    {
     "name": "stdout",
     "output_type": "stream",
     "text": [
      "Epoch 282/400\n",
      "378/378 [==============================] - 8s 21ms/step - loss: 1.1354 - acc: 0.6803\n",
      "Epoch 283/400\n",
      "378/378 [==============================] - 8s 20ms/step - loss: 1.1304 - acc: 0.6774\n",
      "Epoch 284/400\n",
      "378/378 [==============================] - 7s 20ms/step - loss: 1.1265 - acc: 0.6797\n",
      "Epoch 285/400\n",
      "378/378 [==============================] - 8s 20ms/step - loss: 1.1226 - acc: 0.6807\n",
      "Epoch 286/400\n",
      "378/378 [==============================] - 8s 20ms/step - loss: 1.1109 - acc: 0.6815\n",
      "Epoch 287/400\n",
      "378/378 [==============================] - 7s 19ms/step - loss: 1.1345 - acc: 0.6763\n",
      "Epoch 288/400\n",
      "378/378 [==============================] - 8s 21ms/step - loss: 1.1265 - acc: 0.6811\n",
      "Epoch 289/400\n",
      "378/378 [==============================] - 8s 21ms/step - loss: 1.1284 - acc: 0.6810\n",
      "Epoch 290/400\n",
      "378/378 [==============================] - 8s 20ms/step - loss: 1.1243 - acc: 0.6806\n",
      "Epoch 291/400\n",
      "378/378 [==============================] - 8s 20ms/step - loss: 1.1299 - acc: 0.6774\n",
      "Epoch 292/400\n",
      "378/378 [==============================] - 7s 19ms/step - loss: 1.1222 - acc: 0.6816\n",
      "Epoch 293/400\n",
      "378/378 [==============================] - 7s 19ms/step - loss: 1.1129 - acc: 0.6831\n",
      "Epoch 294/400\n",
      "378/378 [==============================] - 7s 19ms/step - loss: 1.1204 - acc: 0.6817\n",
      "Epoch 295/400\n",
      "378/378 [==============================] - 7s 19ms/step - loss: 1.1158 - acc: 0.6800\n",
      "Epoch 296/400\n",
      "378/378 [==============================] - 7s 19ms/step - loss: 1.1174 - acc: 0.6818\n",
      "Epoch 297/400\n",
      "377/378 [============================>.] - ETA: 0s - loss: 1.1183 - acc: 0.6811\n",
      "Epoch 00297: reducing learning rate to 4.0000001899898055e-05.\n",
      "378/378 [==============================] - 7s 19ms/step - loss: 1.1183 - acc: 0.6811\n",
      "Epoch 298/400\n",
      "378/378 [==============================] - 7s 19ms/step - loss: 1.0947 - acc: 0.6872\n",
      "Epoch 299/400\n",
      "378/378 [==============================] - 7s 19ms/step - loss: 1.0801 - acc: 0.6888\n",
      "Epoch 300/400\n",
      "378/378 [==============================] - 8s 20ms/step - loss: 1.1017 - acc: 0.6831\n",
      "Epoch 301/400\n",
      "378/378 [==============================] - 7s 20ms/step - loss: 1.0844 - acc: 0.6864\n",
      "Epoch 302/400\n",
      "378/378 [==============================] - 8s 21ms/step - loss: 1.0908 - acc: 0.6880\n",
      "Epoch 303/400\n",
      "378/378 [==============================] - 7s 19ms/step - loss: 1.0864 - acc: 0.6876\n",
      "Epoch 304/400\n",
      "378/378 [==============================] - 7s 19ms/step - loss: 1.0843 - acc: 0.6886\n",
      "Epoch 305/400\n",
      "378/378 [==============================] - 8s 20ms/step - loss: 1.0756 - acc: 0.6926\n",
      "Epoch 306/400\n",
      "378/378 [==============================] - 8s 21ms/step - loss: 1.0911 - acc: 0.6871\n",
      "Epoch 307/400\n",
      "378/378 [==============================] - 8s 22ms/step - loss: 1.0917 - acc: 0.6881\n",
      "Epoch 308/400\n",
      "378/378 [==============================] - 7s 20ms/step - loss: 1.0897 - acc: 0.6872\n",
      "Epoch 309/400\n",
      "378/378 [==============================] - 8s 20ms/step - loss: 1.0819 - acc: 0.6891\n",
      "Epoch 310/400\n",
      "378/378 [==============================] - 7s 19ms/step - loss: 1.0841 - acc: 0.6922\n",
      "Epoch 311/400\n",
      "378/378 [==============================] - 7s 19ms/step - loss: 1.0810 - acc: 0.6899\n",
      "Epoch 312/400\n",
      "378/378 [==============================] - 7s 19ms/step - loss: 1.0761 - acc: 0.6918\n",
      "Epoch 313/400\n",
      "378/378 [==============================] - 7s 19ms/step - loss: 1.0881 - acc: 0.6857\n",
      "Epoch 314/400\n",
      "378/378 [==============================] - 8s 21ms/step - loss: 1.0782 - acc: 0.6921\n",
      "Epoch 315/400\n",
      "378/378 [==============================] - 7s 19ms/step - loss: 1.0811 - acc: 0.6873\n",
      "Epoch 316/400\n",
      "375/378 [============================>.] - ETA: 0s - loss: 1.0773 - acc: 0.6897\n",
      "Epoch 00316: reducing learning rate to 8.000000525498762e-06.\n",
      "378/378 [==============================] - 8s 20ms/step - loss: 1.0766 - acc: 0.6900\n",
      "Epoch 317/400\n",
      "378/378 [==============================] - 8s 22ms/step - loss: 1.0779 - acc: 0.6908: 1s - loss\n",
      "Epoch 318/400\n",
      "378/378 [==============================] - 9s 24ms/step - loss: 1.0771 - acc: 0.6907\n",
      "Epoch 319/400\n",
      "378/378 [==============================] - 7s 19ms/step - loss: 1.0796 - acc: 0.6883\n",
      "Epoch 320/400\n",
      "378/378 [==============================] - 8s 20ms/step - loss: 1.0723 - acc: 0.6916\n",
      "Epoch 321/400\n",
      "378/378 [==============================] - 8s 20ms/step - loss: 1.0800 - acc: 0.6884\n",
      "Epoch 322/400\n",
      "378/378 [==============================] - 7s 18ms/step - loss: 1.0799 - acc: 0.6936\n",
      "Epoch 323/400\n",
      "378/378 [==============================] - 7s 19ms/step - loss: 1.0884 - acc: 0.6886\n",
      "Epoch 324/400\n",
      "378/378 [==============================] - 7s 19ms/step - loss: 1.0669 - acc: 0.6909\n",
      "Epoch 325/400\n",
      "378/378 [==============================] - 7s 19ms/step - loss: 1.0745 - acc: 0.6874\n",
      "Epoch 326/400\n",
      "378/378 [==============================] - 8s 21ms/step - loss: 1.0749 - acc: 0.6937\n",
      "Epoch 327/400\n",
      "378/378 [==============================] - 7s 19ms/step - loss: 1.0806 - acc: 0.6871\n",
      "Epoch 328/400\n",
      "378/378 [==============================] - 8s 21ms/step - loss: 1.0885 - acc: 0.6887\n",
      "Epoch 329/400\n",
      "378/378 [==============================] - 8s 21ms/step - loss: 1.0747 - acc: 0.6927\n",
      "Epoch 330/400\n",
      "378/378 [==============================] - 8s 21ms/step - loss: 1.0725 - acc: 0.6914\n",
      "Epoch 331/400\n",
      "378/378 [==============================] - 8s 22ms/step - loss: 1.0648 - acc: 0.6927\n",
      "Epoch 332/400\n",
      "378/378 [==============================] - 8s 22ms/step - loss: 1.0762 - acc: 0.6920\n",
      "Epoch 333/400\n",
      "378/378 [==============================] - 8s 21ms/step - loss: 1.0758 - acc: 0.6913\n",
      "Epoch 334/400\n",
      "378/378 [==============================] - 7s 19ms/step - loss: 1.0616 - acc: 0.6950\n",
      "Epoch 335/400\n",
      "378/378 [==============================] - 8s 21ms/step - loss: 1.0864 - acc: 0.6879\n",
      "Epoch 336/400\n",
      "378/378 [==============================] - 8s 21ms/step - loss: 1.0747 - acc: 0.6947\n",
      "Epoch 337/400\n",
      "378/378 [==============================] - 7s 20ms/step - loss: 1.0924 - acc: 0.6885\n",
      "Epoch 338/400\n",
      "378/378 [==============================] - 7s 19ms/step - loss: 1.0653 - acc: 0.6905\n",
      "Epoch 339/400\n",
      "378/378 [==============================] - 7s 19ms/step - loss: 1.0729 - acc: 0.6926\n",
      "Epoch 340/400\n",
      "378/378 [==============================] - 7s 20ms/step - loss: 1.0798 - acc: 0.6907\n",
      "Epoch 341/400\n",
      "378/378 [==============================] - 9s 24ms/step - loss: 1.0727 - acc: 0.6891\n",
      "Epoch 342/400\n",
      "378/378 [==============================] - 8s 22ms/step - loss: 1.0685 - acc: 0.6936\n",
      "Epoch 343/400\n",
      "378/378 [==============================] - 8s 21ms/step - loss: 1.0762 - acc: 0.6917: 4s - loss: 1.08 - ETA: 0s - loss: 1.082\n",
      "Epoch 344/400\n",
      "378/378 [==============================] - 8s 21ms/step - loss: 1.0750 - acc: 0.6888: 1s - loss:\n",
      "Epoch 345/400\n",
      "377/378 [============================>.] - ETA: 0s - loss: 1.0702 - acc: 0.6913\n",
      "Epoch 00345: reducing learning rate to 1.6000001778593287e-06.\n",
      "378/378 [==============================] - 8s 21ms/step - loss: 1.0705 - acc: 0.6911\n",
      "Epoch 346/400\n",
      "378/378 [==============================] - 8s 20ms/step - loss: 1.0797 - acc: 0.6904\n",
      "Epoch 347/400\n",
      "378/378 [==============================] - 7s 20ms/step - loss: 1.0735 - acc: 0.6948\n",
      "Epoch 348/400\n",
      "378/378 [==============================] - 8s 20ms/step - loss: 1.0917 - acc: 0.6911\n",
      "Epoch 349/400\n",
      "378/378 [==============================] - 8s 21ms/step - loss: 1.0684 - acc: 0.6944\n",
      "Epoch 350/400\n",
      "378/378 [==============================] - 8s 22ms/step - loss: 1.0632 - acc: 0.6935\n",
      "Epoch 351/400\n",
      "378/378 [==============================] - 8s 21ms/step - loss: 1.0766 - acc: 0.6943\n",
      "Epoch 352/400\n",
      "378/378 [==============================] - 8s 21ms/step - loss: 1.0897 - acc: 0.6877\n",
      "Epoch 353/400\n",
      "378/378 [==============================] - 8s 21ms/step - loss: 1.0618 - acc: 0.6934\n",
      "Epoch 354/400\n",
      "378/378 [==============================] - 8s 21ms/step - loss: 1.0649 - acc: 0.6968\n",
      "Epoch 355/400\n",
      "378/378 [==============================] - 8s 21ms/step - loss: 1.0680 - acc: 0.6911\n",
      "Epoch 356/400\n",
      "378/378 [==============================] - 9s 24ms/step - loss: 1.0716 - acc: 0.6915\n",
      "Epoch 357/400\n",
      "378/378 [==============================] - 8s 22ms/step - loss: 1.0681 - acc: 0.6948\n",
      "Epoch 358/400\n",
      "378/378 [==============================] - 9s 23ms/step - loss: 1.0683 - acc: 0.6910\n",
      "Epoch 359/400\n",
      "378/378 [==============================] - 8s 21ms/step - loss: 1.0783 - acc: 0.6898\n",
      "Epoch 360/400\n",
      "378/378 [==============================] - 8s 22ms/step - loss: 1.0601 - acc: 0.6962\n",
      "Epoch 361/400\n",
      "378/378 [==============================] - 8s 22ms/step - loss: 1.0747 - acc: 0.6935\n",
      "Epoch 362/400\n",
      "378/378 [==============================] - 8s 21ms/step - loss: 1.0578 - acc: 0.6940\n",
      "Epoch 363/400\n",
      "378/378 [==============================] - 8s 21ms/step - loss: 1.0705 - acc: 0.6923\n",
      "Epoch 364/400\n",
      "378/378 [==============================] - 8s 21ms/step - loss: 1.0687 - acc: 0.6926\n",
      "Epoch 365/400\n",
      "378/378 [==============================] - 8s 20ms/step - loss: 1.0787 - acc: 0.6879\n",
      "Epoch 366/400\n",
      "378/378 [==============================] - 7s 20ms/step - loss: 1.0805 - acc: 0.6892\n",
      "Epoch 367/400\n",
      "378/378 [==============================] - 7s 19ms/step - loss: 1.0654 - acc: 0.6930\n",
      "Epoch 368/400\n",
      "378/378 [==============================] - 7s 20ms/step - loss: 1.0640 - acc: 0.6921\n",
      "Epoch 369/400\n",
      "378/378 [==============================] - 7s 19ms/step - loss: 1.0870 - acc: 0.6877\n",
      "Epoch 370/400\n",
      "378/378 [==============================] - 8s 20ms/step - loss: 1.0582 - acc: 0.6971\n",
      "Epoch 371/400\n",
      "378/378 [==============================] - 7s 19ms/step - loss: 1.0797 - acc: 0.6942\n",
      "Epoch 372/400\n",
      "378/378 [==============================] - 7s 20ms/step - loss: 1.0703 - acc: 0.6920\n",
      "Epoch 373/400\n",
      "376/378 [============================>.] - ETA: 0s - loss: 1.0684 - acc: 0.6953\n",
      "Epoch 00373: reducing learning rate to 3.200000264769187e-07.\n",
      "378/378 [==============================] - 7s 20ms/step - loss: 1.0679 - acc: 0.6954\n",
      "Epoch 374/400\n",
      "378/378 [==============================] - 7s 20ms/step - loss: 1.0716 - acc: 0.6937\n",
      "Epoch 375/400\n",
      "378/378 [==============================] - 7s 19ms/step - loss: 1.0790 - acc: 0.6908\n",
      "Epoch 376/400\n",
      "378/378 [==============================] - 7s 19ms/step - loss: 1.0550 - acc: 0.6958\n",
      "Epoch 377/400\n",
      "378/378 [==============================] - 8s 22ms/step - loss: 1.0812 - acc: 0.6854\n",
      "Epoch 378/400\n",
      "378/378 [==============================] - 8s 21ms/step - loss: 1.0648 - acc: 0.6971\n",
      "Epoch 379/400\n",
      "378/378 [==============================] - 7s 20ms/step - loss: 1.0631 - acc: 0.6932\n",
      "Epoch 380/400\n",
      "378/378 [==============================] - 7s 19ms/step - loss: 1.0649 - acc: 0.6943\n",
      "Epoch 381/400\n",
      "378/378 [==============================] - 8s 20ms/step - loss: 1.0721 - acc: 0.6920\n",
      "Epoch 382/400\n",
      "378/378 [==============================] - 8s 22ms/step - loss: 1.0746 - acc: 0.6902\n",
      "Epoch 383/400\n",
      "378/378 [==============================] - 8s 20ms/step - loss: 1.0639 - acc: 0.6939\n",
      "Epoch 384/400\n",
      "378/378 [==============================] - 8s 20ms/step - loss: 1.0752 - acc: 0.6912\n",
      "Epoch 385/400\n",
      "378/378 [==============================] - 8s 20ms/step - loss: 1.0710 - acc: 0.6954\n",
      "Epoch 386/400\n",
      "378/378 [==============================] - 8s 22ms/step - loss: 1.0735 - acc: 0.6924\n",
      "Epoch 387/400\n",
      "375/378 [============================>.] - ETA: 0s - loss: 1.0700 - acc: 0.6935\n",
      "Epoch 00387: reducing learning rate to 1e-07.\n",
      "378/378 [==============================] - 8s 20ms/step - loss: 1.0699 - acc: 0.6933\n",
      "Epoch 388/400\n",
      "378/378 [==============================] - 8s 20ms/step - loss: 1.0646 - acc: 0.6915\n",
      "Epoch 389/400\n",
      "378/378 [==============================] - 7s 19ms/step - loss: 1.0774 - acc: 0.6908\n",
      "Epoch 390/400\n",
      "378/378 [==============================] - 8s 20ms/step - loss: 1.0663 - acc: 0.6926\n",
      "Epoch 391/400\n",
      "378/378 [==============================] - 7s 19ms/step - loss: 1.0715 - acc: 0.6911\n",
      "Epoch 392/400\n",
      "378/378 [==============================] - 7s 18ms/step - loss: 1.0669 - acc: 0.6941\n",
      "Epoch 393/400\n",
      "378/378 [==============================] - 7s 18ms/step - loss: 1.0759 - acc: 0.6917\n",
      "Epoch 394/400\n",
      "378/378 [==============================] - 7s 18ms/step - loss: 1.0646 - acc: 0.6938\n",
      "Epoch 395/400\n",
      "378/378 [==============================] - 7s 18ms/step - loss: 1.0773 - acc: 0.6892\n",
      "Epoch 396/400\n",
      "378/378 [==============================] - 7s 18ms/step - loss: 1.0654 - acc: 0.6937\n",
      "Epoch 397/400\n",
      "378/378 [==============================] - 7s 18ms/step - loss: 1.0669 - acc: 0.6902\n",
      "Epoch 398/400\n",
      "378/378 [==============================] - 7s 18ms/step - loss: 1.0755 - acc: 0.6926\n",
      "Epoch 399/400\n",
      "378/378 [==============================] - 7s 18ms/step - loss: 1.0704 - acc: 0.6945\n",
      "Epoch 400/400\n",
      "378/378 [==============================] - 7s 19ms/step - loss: 1.0592 - acc: 0.6967\n"
     ]
    }
   ],
   "source": [
    " # 6 Fit model on ALL (training) data\n",
    "\n",
    "# steps_per_epoch should be (number of training images total / batch_size) \n",
    "# validation_steps should be (number of validation images total / batch_size)\n",
    "\n",
    "print('Training')\n",
    "mod_history = model.fit_generator(train_datagen.flow(traning_images_array, \n",
    "                                                    to_categorical(all_labels), \n",
    "                                                    batch_size=batch_size),\n",
    "                                    steps_per_epoch=int(traning_images_array.shape[0]/batch_size),\n",
    "                                    epochs=400, initial_epoch=200,\n",
    "                                    verbose=1,\n",
    "                                    class_weight=class_weights,\n",
    "                                    callbacks = [reduceLR]\n",
    "                                    #validation_data=val_generator,\n",
    "                                    #validation_steps=int(validation_images_array.shape[0]/batch_size)+1\n",
    "                                 )\n"
   ]
  },
  {
   "cell_type": "code",
   "execution_count": 32,
   "metadata": {},
   "outputs": [
    {
     "name": "stderr",
     "output_type": "stream",
     "text": [
      "/home/antonis/anaconda2/envs/kaggle/lib/python3.6/site-packages/ipykernel/__main__.py:4: FutureWarning: pd.rolling_mean is deprecated for Series and will be removed in a future version, replace with \n",
      "\tSeries.rolling(window=5,center=False).mean()\n"
     ]
    },
    {
     "data": {
      "text/plain": [
       "<matplotlib.legend.Legend at 0x7f89257aee80>"
      ]
     },
     "execution_count": 32,
     "metadata": {},
     "output_type": "execute_result"
    },
    {
     "data": {
      "image/png": "[encoded data removed]",
      "text/plain": [
       "<matplotlib.figure.Figure at 0x7f89258a47f0>"
      ]
     },
     "metadata": {},
     "output_type": "display_data"
    }
   ],
   "source": [
    "# append new values to a learning curve (extend epochs to see progress)\n",
    "learn_curve_new = pd.DataFrame()\n",
    "learn_curve_new['train'] = mod_history.history['acc']\n",
    "learn_curve_new['train_rolling'] = pd.rolling_mean(learn_curve_new.train,window=5)\n",
    "#append to previous df\n",
    "learn_curve = learn_curve.append(learn_curve_new,ignore_index=True)\n",
    "# Plot the learning curve\n",
    "fig = plt.figure(figsize=(15, 10))\n",
    "plt.plot(learn_curve['train'], lw=1, label='train')\n",
    "plt.plot(learn_curve['train_rolling'], lw=4, label='train_rolling',alpha=.5)\n",
    "plt.legend(loc='best', fontsize=16)"
   ]
  },
  {
   "cell_type": "code",
   "execution_count": null,
   "metadata": {
    "collapsed": true
   },
   "outputs": [],
   "source": []
  },
  {
   "cell_type": "code",
   "execution_count": 33,
   "metadata": {
    "collapsed": true
   },
   "outputs": [],
   "source": [
    "reduceLR = ReduceLROnPlateau(monitor='loss', factor=0.2, verbose=1, patience=5, min_lr=1e-14)"
   ]
  },
  {
   "cell_type": "code",
   "execution_count": 34,
   "metadata": {
    "scrolled": true
   },
   "outputs": [
    {
     "name": "stdout",
     "output_type": "stream",
     "text": [
      "Training\n",
      "Epoch 401/500\n",
      "378/378 [==============================] - 7s 19ms/step - loss: 1.0741 - acc: 0.6935\n",
      "Epoch 402/500\n",
      "378/378 [==============================] - 7s 19ms/step - loss: 1.0726 - acc: 0.6929\n",
      "Epoch 403/500\n",
      "378/378 [==============================] - 7s 19ms/step - loss: 1.0713 - acc: 0.6947\n",
      "Epoch 404/500\n",
      "378/378 [==============================] - 7s 19ms/step - loss: 1.0667 - acc: 0.6932\n",
      "Epoch 405/500\n",
      "378/378 [==============================] - 7s 19ms/step - loss: 1.0708 - acc: 0.6903\n",
      "Epoch 406/500\n",
      "378/378 [==============================] - 7s 19ms/step - loss: 1.0749 - acc: 0.6918\n",
      "Epoch 407/500\n",
      "378/378 [==============================] - 7s 19ms/step - loss: 1.0685 - acc: 0.6953\n",
      "Epoch 408/500\n",
      "378/378 [==============================] - 7s 20ms/step - loss: 1.0665 - acc: 0.6937\n",
      "Epoch 409/500\n",
      "378/378 [==============================] - 7s 20ms/step - loss: 1.0821 - acc: 0.6899\n",
      "Epoch 410/500\n",
      "378/378 [==============================] - 7s 19ms/step - loss: 1.0722 - acc: 0.6916\n",
      "Epoch 411/500\n",
      "378/378 [==============================] - 7s 19ms/step - loss: 1.0734 - acc: 0.6948\n",
      "Epoch 412/500\n",
      "378/378 [==============================] - 7s 19ms/step - loss: 1.0700 - acc: 0.6914\n",
      "Epoch 413/500\n",
      "378/378 [==============================] - 7s 20ms/step - loss: 1.0775 - acc: 0.6909\n",
      "Epoch 414/500\n",
      "377/378 [============================>.] - ETA: 0s - loss: 1.0757 - acc: 0.6877\n",
      "Epoch 00414: reducing learning rate to 2.000000023372195e-08.\n",
      "378/378 [==============================] - 7s 19ms/step - loss: 1.0752 - acc: 0.6878\n",
      "Epoch 415/500\n",
      "378/378 [==============================] - 7s 19ms/step - loss: 1.0703 - acc: 0.6927\n",
      "Epoch 416/500\n",
      "378/378 [==============================] - 7s 19ms/step - loss: 1.0726 - acc: 0.6931\n",
      "Epoch 417/500\n",
      "378/378 [==============================] - 7s 19ms/step - loss: 1.0691 - acc: 0.6931\n",
      "Epoch 418/500\n",
      "378/378 [==============================] - 7s 19ms/step - loss: 1.0732 - acc: 0.6908\n",
      "Epoch 419/500\n",
      "378/378 [==============================] - 7s 19ms/step - loss: 1.0641 - acc: 0.6959\n",
      "Epoch 420/500\n",
      "378/378 [==============================] - 7s 19ms/step - loss: 1.0627 - acc: 0.6955\n",
      "Epoch 421/500\n",
      "378/378 [==============================] - 7s 19ms/step - loss: 1.0733 - acc: 0.6940\n",
      "Epoch 422/500\n",
      "378/378 [==============================] - 7s 19ms/step - loss: 1.0655 - acc: 0.6923\n",
      "Epoch 423/500\n",
      "378/378 [==============================] - 8s 21ms/step - loss: 1.0802 - acc: 0.6890\n",
      "Epoch 424/500\n",
      "378/378 [==============================] - 8s 22ms/step - loss: 1.0671 - acc: 0.6954\n",
      "Epoch 425/500\n",
      "378/378 [==============================] - 8s 20ms/step - loss: 1.0765 - acc: 0.6938\n",
      "Epoch 426/500\n",
      "377/378 [============================>.] - ETA: 0s - loss: 1.0760 - acc: 0.6923\n",
      "Epoch 00426: reducing learning rate to 3.999999975690117e-09.\n",
      "378/378 [==============================] - 7s 20ms/step - loss: 1.0760 - acc: 0.6924\n",
      "Epoch 427/500\n",
      "378/378 [==============================] - 7s 20ms/step - loss: 1.0706 - acc: 0.6940\n",
      "Epoch 428/500\n",
      "378/378 [==============================] - 7s 19ms/step - loss: 1.0737 - acc: 0.6901\n",
      "Epoch 429/500\n",
      "378/378 [==============================] - 7s 19ms/step - loss: 1.0769 - acc: 0.6895\n",
      "Epoch 430/500\n",
      "378/378 [==============================] - 7s 19ms/step - loss: 1.0653 - acc: 0.6903\n",
      "Epoch 431/500\n",
      "377/378 [============================>.] - ETA: 0s - loss: 1.0678 - acc: 0.6966\n",
      "Epoch 00431: reducing learning rate to 7.999999773744548e-10.\n",
      "378/378 [==============================] - 7s 20ms/step - loss: 1.0671 - acc: 0.6967\n",
      "Epoch 432/500\n",
      "378/378 [==============================] - 7s 20ms/step - loss: 1.0764 - acc: 0.6901\n",
      "Epoch 433/500\n",
      "378/378 [==============================] - 7s 19ms/step - loss: 1.0826 - acc: 0.6888\n",
      "Epoch 434/500\n",
      "378/378 [==============================] - 8s 20ms/step - loss: 1.0576 - acc: 0.6937\n",
      "Epoch 435/500\n",
      "378/378 [==============================] - 7s 20ms/step - loss: 1.0699 - acc: 0.6936\n",
      "Epoch 436/500\n",
      "378/378 [==============================] - 7s 20ms/step - loss: 1.0781 - acc: 0.6925\n",
      "Epoch 437/500\n",
      "378/378 [==============================] - 7s 19ms/step - loss: 1.0761 - acc: 0.6906\n",
      "Epoch 438/500\n",
      "378/378 [==============================] - 7s 19ms/step - loss: 1.0694 - acc: 0.6903\n",
      "Epoch 439/500\n",
      "378/378 [==============================] - 7s 19ms/step - loss: 1.0684 - acc: 0.6947\n",
      "Epoch 440/500\n",
      "377/378 [============================>.] - ETA: 0s - loss: 1.0665 - acc: 0.6940\n",
      "Epoch 00440: reducing learning rate to 1.5999999103399887e-10.\n",
      "378/378 [==============================] - 7s 20ms/step - loss: 1.0665 - acc: 0.6940\n",
      "Epoch 441/500\n",
      "378/378 [==============================] - 7s 20ms/step - loss: 1.0859 - acc: 0.6884\n",
      "Epoch 442/500\n",
      "378/378 [==============================] - 8s 21ms/step - loss: 1.0714 - acc: 0.6935\n",
      "Epoch 443/500\n",
      "378/378 [==============================] - 8s 21ms/step - loss: 1.0667 - acc: 0.6949\n",
      "Epoch 444/500\n",
      "378/378 [==============================] - 8s 20ms/step - loss: 1.0689 - acc: 0.6890\n",
      "Epoch 445/500\n",
      "375/378 [============================>.] - ETA: 0s - loss: 1.0664 - acc: 0.6970\n",
      "Epoch 00445: reducing learning rate to 3.199999709657675e-11.\n",
      "378/378 [==============================] - 8s 20ms/step - loss: 1.0665 - acc: 0.6970\n",
      "Epoch 446/500\n",
      "378/378 [==============================] - 8s 20ms/step - loss: 1.0681 - acc: 0.6921\n",
      "Epoch 447/500\n",
      "378/378 [==============================] - 8s 20ms/step - loss: 1.0779 - acc: 0.6951\n",
      "Epoch 448/500\n",
      "378/378 [==============================] - 7s 20ms/step - loss: 1.0650 - acc: 0.6919\n",
      "Epoch 449/500\n",
      "378/378 [==============================] - 8s 21ms/step - loss: 1.0749 - acc: 0.6878\n",
      "Epoch 450/500\n",
      "375/378 [============================>.] - ETA: 0s - loss: 1.0614 - acc: 0.6949\n",
      "Epoch 00450: reducing learning rate to 6.399999280537472e-12.\n",
      "378/378 [==============================] - 7s 20ms/step - loss: 1.0633 - acc: 0.6946\n",
      "Epoch 451/500\n",
      "378/378 [==============================] - 7s 19ms/step - loss: 1.0779 - acc: 0.6898\n",
      "Epoch 452/500\n",
      "378/378 [==============================] - 8s 20ms/step - loss: 1.0731 - acc: 0.6932\n",
      "Epoch 453/500\n",
      "378/378 [==============================] - 7s 20ms/step - loss: 1.0659 - acc: 0.6976\n",
      "Epoch 454/500\n",
      "378/378 [==============================] - 7s 19ms/step - loss: 1.0689 - acc: 0.6908\n",
      "Epoch 455/500\n",
      "377/378 [============================>.] - ETA: 0s - loss: 1.0726 - acc: 0.6925\n",
      "Epoch 00455: reducing learning rate to 1.279999890801964e-12.\n",
      "378/378 [==============================] - 7s 19ms/step - loss: 1.0720 - acc: 0.6928\n",
      "Epoch 456/500\n",
      "378/378 [==============================] - 7s 19ms/step - loss: 1.0692 - acc: 0.6933\n",
      "Epoch 457/500\n",
      "378/378 [==============================] - 7s 19ms/step - loss: 1.0729 - acc: 0.6919\n",
      "Epoch 458/500\n",
      "378/378 [==============================] - 7s 19ms/step - loss: 1.0782 - acc: 0.6911\n",
      "Epoch 459/500\n",
      "378/378 [==============================] - 7s 19ms/step - loss: 1.0740 - acc: 0.6880\n",
      "Epoch 460/500\n",
      "376/378 [============================>.] - ETA: 0s - loss: 1.0755 - acc: 0.6895\n",
      "Epoch 00460: reducing learning rate to 2.559999738235841e-13.\n",
      "378/378 [==============================] - 7s 19ms/step - loss: 1.0752 - acc: 0.6896\n",
      "Epoch 461/500\n",
      "378/378 [==============================] - 8s 20ms/step - loss: 1.0696 - acc: 0.6965\n",
      "Epoch 462/500\n",
      "378/378 [==============================] - 7s 20ms/step - loss: 1.0662 - acc: 0.6892\n",
      "Epoch 463/500\n",
      "378/378 [==============================] - 7s 20ms/step - loss: 1.0738 - acc: 0.6896\n",
      "Epoch 464/500\n",
      "378/378 [==============================] - 7s 19ms/step - loss: 1.0688 - acc: 0.6944\n",
      "Epoch 465/500\n",
      "377/378 [============================>.] - ETA: 0s - loss: 1.0664 - acc: 0.6966\n",
      "Epoch 00465: reducing learning rate to 5.119999476471682e-14.\n",
      "378/378 [==============================] - 7s 19ms/step - loss: 1.0669 - acc: 0.6965\n",
      "Epoch 466/500\n",
      "378/378 [==============================] - 7s 20ms/step - loss: 1.0757 - acc: 0.6895\n",
      "Epoch 467/500\n",
      "378/378 [==============================] - 7s 20ms/step - loss: 1.0746 - acc: 0.6894\n",
      "Epoch 468/500\n",
      "378/378 [==============================] - 7s 20ms/step - loss: 1.0696 - acc: 0.6912\n",
      "Epoch 469/500\n",
      "378/378 [==============================] - 8s 21ms/step - loss: 1.0762 - acc: 0.6935\n",
      "Epoch 470/500\n",
      "376/378 [============================>.] - ETA: 0s - loss: 1.0747 - acc: 0.6910\n",
      "Epoch 00470: reducing learning rate to 1.0239998817418092e-14.\n",
      "378/378 [==============================] - 7s 20ms/step - loss: 1.0747 - acc: 0.6910\n",
      "Epoch 471/500\n",
      "378/378 [==============================] - 7s 20ms/step - loss: 1.0579 - acc: 0.6952\n",
      "Epoch 472/500\n",
      "378/378 [==============================] - 7s 20ms/step - loss: 1.0760 - acc: 0.6916\n",
      "Epoch 473/500\n",
      "378/378 [==============================] - 7s 20ms/step - loss: 1.0812 - acc: 0.6875\n",
      "Epoch 474/500\n",
      "378/378 [==============================] - 7s 19ms/step - loss: 1.0747 - acc: 0.6905\n",
      "Epoch 475/500\n",
      "377/378 [============================>.] - ETA: 0s - loss: 1.0682 - acc: 0.6922\n",
      "Epoch 00475: reducing learning rate to 1e-14.\n",
      "378/378 [==============================] - 8s 20ms/step - loss: 1.0687 - acc: 0.6921\n",
      "Epoch 476/500\n",
      "378/378 [==============================] - 7s 19ms/step - loss: 1.0703 - acc: 0.6942\n",
      "Epoch 477/500\n",
      "378/378 [==============================] - 8s 22ms/step - loss: 1.0720 - acc: 0.6903\n",
      "Epoch 478/500\n",
      "378/378 [==============================] - 7s 19ms/step - loss: 1.0704 - acc: 0.6952\n",
      "Epoch 479/500\n",
      "378/378 [==============================] - 7s 19ms/step - loss: 1.0728 - acc: 0.6904\n",
      "Epoch 480/500\n",
      "378/378 [==============================] - 7s 20ms/step - loss: 1.0709 - acc: 0.6929\n",
      "Epoch 481/500\n",
      "378/378 [==============================] - 7s 20ms/step - loss: 1.0838 - acc: 0.6923\n",
      "Epoch 482/500\n",
      "378/378 [==============================] - 7s 19ms/step - loss: 1.0637 - acc: 0.6929\n",
      "Epoch 483/500\n",
      "378/378 [==============================] - 7s 19ms/step - loss: 1.0710 - acc: 0.6895\n",
      "Epoch 484/500\n",
      "378/378 [==============================] - 7s 19ms/step - loss: 1.0680 - acc: 0.6919\n",
      "Epoch 485/500\n",
      "378/378 [==============================] - 7s 19ms/step - loss: 1.0687 - acc: 0.6955\n",
      "Epoch 486/500\n",
      "378/378 [==============================] - 7s 19ms/step - loss: 1.0615 - acc: 0.6947\n",
      "Epoch 487/500\n",
      "378/378 [==============================] - 7s 20ms/step - loss: 1.0610 - acc: 0.6966\n",
      "Epoch 488/500\n",
      "378/378 [==============================] - 7s 20ms/step - loss: 1.0714 - acc: 0.6884\n",
      "Epoch 489/500\n",
      "378/378 [==============================] - 8s 20ms/step - loss: 1.0675 - acc: 0.6925\n",
      "Epoch 490/500\n",
      "378/378 [==============================] - 8s 21ms/step - loss: 1.0614 - acc: 0.6937\n",
      "Epoch 491/500\n",
      "378/378 [==============================] - 8s 20ms/step - loss: 1.0746 - acc: 0.6901\n",
      "Epoch 492/500\n",
      "378/378 [==============================] - 7s 19ms/step - loss: 1.0662 - acc: 0.6949\n",
      "Epoch 493/500\n",
      "378/378 [==============================] - 8s 20ms/step - loss: 1.0716 - acc: 0.6947\n",
      "Epoch 494/500\n",
      "378/378 [==============================] - 7s 19ms/step - loss: 1.0719 - acc: 0.6921\n",
      "Epoch 495/500\n",
      "378/378 [==============================] - 7s 19ms/step - loss: 1.0771 - acc: 0.6910\n",
      "Epoch 496/500\n",
      "378/378 [==============================] - 7s 19ms/step - loss: 1.0644 - acc: 0.6961\n",
      "Epoch 497/500\n",
      "378/378 [==============================] - 8s 21ms/step - loss: 1.0663 - acc: 0.6926\n",
      "Epoch 498/500\n",
      "378/378 [==============================] - 8s 21ms/step - loss: 1.0690 - acc: 0.6923\n",
      "Epoch 499/500\n",
      "378/378 [==============================] - 7s 20ms/step - loss: 1.0704 - acc: 0.6902\n",
      "Epoch 500/500\n",
      "378/378 [==============================] - 7s 20ms/step - loss: 1.0781 - acc: 0.6905\n"
     ]
    }
   ],
   "source": [
    " # 6 Fit model on ALL (training) data\n",
    "\n",
    "# steps_per_epoch should be (number of training images total / batch_size) \n",
    "# validation_steps should be (number of validation images total / batch_size)\n",
    "\n",
    "print('Training')\n",
    "mod_history = model.fit_generator(train_datagen.flow(traning_images_array, \n",
    "                                                    to_categorical(all_labels), \n",
    "                                                    batch_size=batch_size),\n",
    "                                    steps_per_epoch=int(traning_images_array.shape[0]/batch_size),\n",
    "                                    epochs=500, initial_epoch=400,\n",
    "                                    verbose=1,\n",
    "                                    class_weight=class_weights,\n",
    "                                    callbacks = [reduceLR]\n",
    "                                    #validation_data=val_generator,\n",
    "                                    #validation_steps=int(validation_images_array.shape[0]/batch_size)+1\n",
    "                                 )\n"
   ]
  },
  {
   "cell_type": "code",
   "execution_count": 35,
   "metadata": {},
   "outputs": [
    {
     "name": "stderr",
     "output_type": "stream",
     "text": [
      "/home/antonis/anaconda2/envs/kaggle/lib/python3.6/site-packages/ipykernel/__main__.py:4: FutureWarning: pd.rolling_mean is deprecated for Series and will be removed in a future version, replace with \n",
      "\tSeries.rolling(window=5,center=False).mean()\n"
     ]
    },
    {
     "data": {
      "text/plain": [
       "<matplotlib.legend.Legend at 0x7f892572e5f8>"
      ]
     },
     "execution_count": 35,
     "metadata": {},
     "output_type": "execute_result"
    },
    {
     "data": {
      "image/png": "[encoded data removed]",
      "text/plain": [
       "<matplotlib.figure.Figure at 0x7f89638eec88>"
      ]
     },
     "metadata": {},
     "output_type": "display_data"
    }
   ],
   "source": [
    "# append new values to a learning curve (extend epochs to see progress)\n",
    "learn_curve_new = pd.DataFrame()\n",
    "learn_curve_new['train'] = mod_history.history['acc']\n",
    "learn_curve_new['train_rolling'] = pd.rolling_mean(learn_curve_new.train,window=5)\n",
    "#append to previous df\n",
    "learn_curve = learn_curve.append(learn_curve_new,ignore_index=True)\n",
    "# Plot the learning curve\n",
    "fig = plt.figure(figsize=(15, 10))\n",
    "plt.plot(learn_curve['train'], lw=1, label='train')\n",
    "plt.plot(learn_curve['train_rolling'], lw=4, label='train_rolling',alpha=.5)\n",
    "plt.legend(loc='best', fontsize=16)"
   ]
  },
  {
   "cell_type": "code",
   "execution_count": null,
   "metadata": {
    "collapsed": true
   },
   "outputs": [],
   "source": []
  },
  {
   "cell_type": "code",
   "execution_count": null,
   "metadata": {
    "collapsed": true
   },
   "outputs": [],
   "source": []
  },
  {
   "cell_type": "code",
   "execution_count": null,
   "metadata": {
    "collapsed": true
   },
   "outputs": [],
   "source": [
    "##########"
   ]
  },
  {
   "cell_type": "code",
   "execution_count": null,
   "metadata": {
    "collapsed": true
   },
   "outputs": [],
   "source": []
  },
  {
   "cell_type": "code",
   "execution_count": null,
   "metadata": {
    "collapsed": true
   },
   "outputs": [],
   "source": []
  },
  {
   "cell_type": "markdown",
   "metadata": {},
   "source": [
    "# Export model (history, summary and learning curves)\n"
   ]
  },
  {
   "cell_type": "code",
   "execution_count": 36,
   "metadata": {
    "collapsed": true
   },
   "outputs": [],
   "source": [
    "\n",
    "notes='finalCountD2, e**(1DIVx)'"
   ]
  },
  {
   "cell_type": "code",
   "execution_count": 37,
   "metadata": {
    "collapsed": true
   },
   "outputs": [],
   "source": [
    "from datetime import datetime\n",
    "import pickle"
   ]
  },
  {
   "cell_type": "code",
   "execution_count": 38,
   "metadata": {
    "collapsed": true
   },
   "outputs": [],
   "source": [
    "#set filename\n",
    "time= datetime.now().strftime('%m-%d %H.%M, ')\n",
    "errors = 'train_err=%.2f'%(mod_history.history['acc'][-1])\n",
    "ffilename = 'trainHistory/'+time+errors+notes"
   ]
  },
  {
   "cell_type": "code",
   "execution_count": 39,
   "metadata": {
    "collapsed": true
   },
   "outputs": [],
   "source": [
    "# Export model (history, summary and learning curves)\n",
    "\n",
    "notes='log'                    # add any notes here\n",
    "with open(ffilename + '.pickle', 'wb') as file_pi:         # export model history\n",
    "    pickle.dump(mod_history.history, file_pi)\n",
    "model.save(ffilename+'.h5')                                # export model\n",
    "\n",
    "\n",
    "with open(ffilename + '_summary.txt','w') as fh:           # save model summary (layer architecture etc)\n",
    "    model.summary(print_fn=lambda x: fh.write(x + '\\n'))   # Pass the file handle in as a lambda function to make it callable\n",
    "\n",
    "fig.savefig(ffilename+'_learning_curve.png')               # save learning curve image"
   ]
  },
  {
   "cell_type": "code",
   "execution_count": null,
   "metadata": {
    "collapsed": true
   },
   "outputs": [],
   "source": []
  },
  {
   "cell_type": "code",
   "execution_count": null,
   "metadata": {
    "collapsed": true
   },
   "outputs": [],
   "source": []
  },
  {
   "cell_type": "code",
   "execution_count": 40,
   "metadata": {
    "collapsed": true
   },
   "outputs": [],
   "source": [
    "# test_images_array_transf = test_datagen.standardize(test_images_array)\n",
    "# # test_images_array_transf2 = test_datagen2.standardize(test_images_array)"
   ]
  },
  {
   "cell_type": "code",
   "execution_count": 41,
   "metadata": {
    "collapsed": true
   },
   "outputs": [],
   "source": [
    "test_images_array = test_datagen.standardize(test_images_array)"
   ]
  },
  {
   "cell_type": "code",
   "execution_count": 42,
   "metadata": {},
   "outputs": [
    {
     "name": "stdout",
     "output_type": "stream",
     "text": [
      "6132/6132 [==============================] - 1s 116us/step\n"
     ]
    }
   ],
   "source": [
    "results = model.predict(test_images_array, batch_size=batch_size, verbose=1)"
   ]
  },
  {
   "cell_type": "code",
   "execution_count": 43,
   "metadata": {},
   "outputs": [
    {
     "data": {
      "text/plain": [
       "<matplotlib.axes._subplots.AxesSubplot at 0x7f89240790b8>"
      ]
     },
     "execution_count": 43,
     "metadata": {},
     "output_type": "execute_result"
    },
    {
     "data": {
      "image/png": "[encoded data removed]",
      "text/plain": [
       "<matplotlib.figure.Figure at 0x7f8925882438>"
      ]
     },
     "metadata": {},
     "output_type": "display_data"
    }
   ],
   "source": [
    "results_df = pd.DataFrame(results)\n",
    "results_df.max(axis=0).hist()"
   ]
  },
  {
   "cell_type": "code",
   "execution_count": null,
   "metadata": {
    "collapsed": true
   },
   "outputs": [],
   "source": []
  },
  {
   "cell_type": "code",
   "execution_count": 44,
   "metadata": {},
   "outputs": [
    {
     "data": {
      "text/plain": [
       "40283.jpg      28\n",
       "10858.jpg       8\n",
       "153813.jpg     84\n",
       "14182.jpg      31\n",
       "59486.jpg     113\n",
       "dtype: int64"
      ]
     },
     "execution_count": 44,
     "metadata": {},
     "output_type": "execute_result"
    }
   ],
   "source": [
    "from utils import filename_from_path\n",
    "results_df.index = map(lambda p: filename_from_path(test_set_list[p]), results_df.index)\n",
    "subm = results_df.idxmax(axis=1)\n",
    "subm.head()"
   ]
  },
  {
   "cell_type": "code",
   "execution_count": 45,
   "metadata": {
    "collapsed": true
   },
   "outputs": [],
   "source": [
    "subm.to_csv(notes+'.csv',header=['class'],index_label='image')"
   ]
  },
  {
   "cell_type": "code",
   "execution_count": null,
   "metadata": {
    "collapsed": true
   },
   "outputs": [],
   "source": []
  }
 ],
 "metadata": {
  "kernelspec": {
   "display_name": "Python 3",
   "language": "python",
   "name": "python3"
  },
  "language_info": {
   "codemirror_mode": {
    "name": "ipython",
    "version": 3
   },
   "file_extension": ".py",
   "mimetype": "text/x-python",
   "name": "python",
   "nbconvert_exporter": "python",
   "pygments_lexer": "ipython3",
   "version": "3.5.4"
  }
 },
 "nbformat": 4,
 "nbformat_minor": 2
}
