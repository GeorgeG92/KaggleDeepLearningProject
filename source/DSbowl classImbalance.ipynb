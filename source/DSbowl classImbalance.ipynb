{
 "cells": [
  {
   "cell_type": "code",
   "execution_count": 1,
   "metadata": {
    "scrolled": false
   },
   "outputs": [
    {
     "name": "stderr",
     "output_type": "stream",
     "text": [
      "Using TensorFlow backend.\n",
      "/home/antonis/anaconda2/envs/kaggle/lib/python3.6/importlib/_bootstrap.py:205: RuntimeWarning: compiletime version 3.5 of module 'tensorflow.python.framework.fast_tensor_util' does not match runtime version 3.6\n",
      "  return f(*args, **kwds)\n"
     ]
    }
   ],
   "source": [
    "import pandas as pd\n",
    "import numpy as np\n",
    "import keras"
   ]
  },
  {
   "cell_type": "code",
   "execution_count": 2,
   "metadata": {
    "collapsed": true
   },
   "outputs": [],
   "source": [
    "from keras.utils.np_utils import to_categorical\n",
    "from keras.layers import *"
   ]
  },
  {
   "cell_type": "code",
   "execution_count": 3,
   "metadata": {},
   "outputs": [
    {
     "name": "stdout",
     "output_type": "stream",
     "text": [
      "[name: \"/device:CPU:0\"\n",
      "device_type: \"CPU\"\n",
      "memory_limit: 268435456\n",
      "locality {\n",
      "}\n",
      "incarnation: 5418413695538988779\n",
      ", name: \"/device:GPU:0\"\n",
      "device_type: \"GPU\"\n",
      "memory_limit: 78249984\n",
      "locality {\n",
      "  bus_id: 1\n",
      "}\n",
      "incarnation: 16502334995401453779\n",
      "physical_device_desc: \"device: 0, name: GeForce GTX 1050, pci bus id: 0000:01:00.0, compute capability: 6.1\"\n",
      "]\n"
     ]
    }
   ],
   "source": [
    "from tensorflow.python.client import device_lib\n",
    "print(device_lib.list_local_devices())"
   ]
  },
  {
   "cell_type": "code",
   "execution_count": 4,
   "metadata": {
    "collapsed": true
   },
   "outputs": [],
   "source": [
    "# from keras import backend as K\n",
    "# K.tensorflow_backend.get_value()"
   ]
  },
  {
   "cell_type": "code",
   "execution_count": 5,
   "metadata": {
    "collapsed": true
   },
   "outputs": [],
   "source": [
    "#to save models\n",
    "from datetime import datetime\n",
    "import pickle\n",
    "import glob"
   ]
  },
  {
   "cell_type": "code",
   "execution_count": 6,
   "metadata": {
    "collapsed": true
   },
   "outputs": [],
   "source": [
    "from keras.preprocessing.image import load_img, img_to_array\n",
    "import matplotlib.pyplot as plt\n",
    "%matplotlib inline\n",
    "from pylab import cm\n",
    "from skimage.io import imread\n",
    "from sklearn.model_selection import train_test_split\n",
    "import cv2"
   ]
  },
  {
   "cell_type": "code",
   "execution_count": 7,
   "metadata": {
    "collapsed": true
   },
   "outputs": [],
   "source": [
    "#Read training data\n",
    "df = pd.read_csv('train_onelabel.csv',index_col='image')"
   ]
  },
  {
   "cell_type": "code",
   "execution_count": 8,
   "metadata": {
    "collapsed": true
   },
   "outputs": [],
   "source": [
    "#create useful dicts\n",
    "\n",
    "# mapping images-class IDs\n",
    "get_class_of = df['class'].copy().to_dict()\n",
    "get_images_of = df.copy().groupby('class').apply(lambda x: x.values.tolist()).to_dict()"
   ]
  },
  {
   "cell_type": "markdown",
   "metadata": {},
   "source": [
    "# TODO correct get_images_of"
   ]
  },
  {
   "cell_type": "code",
   "execution_count": 9,
   "metadata": {},
   "outputs": [
    {
     "data": {
      "text/plain": [
       "\"\\n    Usage:\\n    get_class_name_of['ctenophore_cydippid_tentacles']\\n    >> 9\\n\""
      ]
     },
     "execution_count": 9,
     "metadata": {},
     "output_type": "execute_result"
    }
   ],
   "source": [
    "#Read label mapping\n",
    "df_label_map = pd.read_csv('label_map.txt',header=None,names=['name','id'],sep=' ')\n",
    "\n",
    "# mapping class IDs-class names\n",
    "get_name_of_class = df_label_map['name'].to_dict()\n",
    "'''\n",
    "    Usage:\n",
    "    get_name_of_class[9]\n",
    "    >> 'ctenophore_cydippid_tentacles'\n",
    "'''\n",
    "\n",
    "get_class_name_of = {v: k for k, v in get_name_of_class.items()}\n",
    "'''\n",
    "    Usage:\n",
    "    get_class_name_of['ctenophore_cydippid_tentacles']\n",
    "    >> 9\n",
    "'''"
   ]
  },
  {
   "cell_type": "markdown",
   "metadata": {
    "collapsed": true
   },
   "source": [
    "# load data"
   ]
  },
  {
   "cell_type": "code",
   "execution_count": 10,
   "metadata": {
    "collapsed": true
   },
   "outputs": [],
   "source": [
    "training_paths = glob.glob('competition_data/train_images/*')\n",
    "test_paths = glob.glob('competition_data/test_images/*')"
   ]
  },
  {
   "cell_type": "code",
   "execution_count": 11,
   "metadata": {},
   "outputs": [
    {
     "data": {
      "text/plain": [
       "'competition_data/train_images/101565.jpg'"
      ]
     },
     "execution_count": 11,
     "metadata": {},
     "output_type": "execute_result"
    }
   ],
   "source": [
    "training_paths[3]"
   ]
  },
  {
   "cell_type": "code",
   "execution_count": null,
   "metadata": {
    "collapsed": true
   },
   "outputs": [],
   "source": []
  },
  {
   "cell_type": "markdown",
   "metadata": {},
   "source": [
    "## Class Imbalance"
   ]
  },
  {
   "cell_type": "code",
   "execution_count": 12,
   "metadata": {},
   "outputs": [],
   "source": [
    "class_counts = df['class'].value_counts()"
   ]
  },
  {
   "cell_type": "code",
   "execution_count": 13,
   "metadata": {},
   "outputs": [
    {
     "data": {
      "text/plain": [
       "24204"
      ]
     },
     "execution_count": 13,
     "metadata": {},
     "output_type": "execute_result"
    }
   ],
   "source": [
    "class_counts.sum()"
   ]
  },
  {
   "cell_type": "code",
   "execution_count": 14,
   "metadata": {
    "scrolled": true
   },
   "outputs": [],
   "source": [
    "class_weights = class_counts/class_counts.sum()"
   ]
  },
  {
   "cell_type": "code",
   "execution_count": 15,
   "metadata": {},
   "outputs": [],
   "source": [
    "class_weights = class_weights.to_dict()"
   ]
  },
  {
   "cell_type": "markdown",
   "metadata": {},
   "source": [
    "## Define image input size"
   ]
  },
  {
   "cell_type": "code",
   "execution_count": 16,
   "metadata": {
    "collapsed": true
   },
   "outputs": [],
   "source": [
    "input_size = (64,64)"
   ]
  },
  {
   "cell_type": "code",
   "execution_count": 17,
   "metadata": {
    "collapsed": true
   },
   "outputs": [],
   "source": [
    "#load X (images - train & test set)\n",
    "images = (load_img(p, target_size=input_size,grayscale=True) for p in training_paths)\n",
    "X = np.array([img_to_array(im) for im in images])\n",
    "del images"
   ]
  },
  {
   "cell_type": "code",
   "execution_count": 18,
   "metadata": {},
   "outputs": [
    {
     "name": "stdout",
     "output_type": "stream",
     "text": [
      "(24204, 64, 64, 1)\n"
     ]
    }
   ],
   "source": [
    "print(X.shape)"
   ]
  },
  {
   "cell_type": "code",
   "execution_count": 19,
   "metadata": {
    "collapsed": true
   },
   "outputs": [],
   "source": [
    "#load X_ ()\n",
    "images = (load_img(p, target_size=input_size,grayscale=True) for p in test_paths)\n",
    "X_predict = np.array([img_to_array(im) for im in images])\n",
    "del images"
   ]
  },
  {
   "cell_type": "code",
   "execution_count": null,
   "metadata": {
    "collapsed": true
   },
   "outputs": [],
   "source": []
  },
  {
   "cell_type": "code",
   "execution_count": 20,
   "metadata": {
    "collapsed": true
   },
   "outputs": [],
   "source": [
    "from utils import reshape_to_view_img"
   ]
  },
  {
   "cell_type": "code",
   "execution_count": 21,
   "metadata": {
    "scrolled": false
   },
   "outputs": [
    {
     "data": {
      "text/plain": [
       "<matplotlib.image.AxesImage at 0x7f5f0a1f62e8>"
      ]
     },
     "execution_count": 21,
     "metadata": {},
     "output_type": "execute_result"
    },
    {
     "data": {
      "image/png": "[encoded data removed]",
      "text/plain": [
       "<matplotlib.figure.Figure at 0x7f5f3c0aea20>"
      ]
     },
     "metadata": {},
     "output_type": "display_data"
    }
   ],
   "source": [
    "plt.imshow(reshape_to_view_img(X[3]),cmap='gray')"
   ]
  },
  {
   "cell_type": "code",
   "execution_count": 22,
   "metadata": {},
   "outputs": [
    {
     "data": {
      "text/plain": [
       "<matplotlib.image.AxesImage at 0x7f5f1cac47b8>"
      ]
     },
     "execution_count": 22,
     "metadata": {},
     "output_type": "execute_result"
    },
    {
     "data": {
      "image/png": "[encoded data removed]",
      "text/plain": [
       "<matplotlib.figure.Figure at 0x7f5f1c7f61d0>"
      ]
     },
     "metadata": {},
     "output_type": "display_data"
    }
   ],
   "source": [
    "plt.imshow(reshape_to_view_img(X_predict[3]),cmap='gray')"
   ]
  },
  {
   "cell_type": "code",
   "execution_count": 23,
   "metadata": {
    "collapsed": true
   },
   "outputs": [],
   "source": [
    "#load Y (labels)\n",
    "y = list(map(lambda p: get_class_of[p.split('/')[-1]] , training_paths))"
   ]
  },
  {
   "cell_type": "code",
   "execution_count": null,
   "metadata": {
    "collapsed": true
   },
   "outputs": [],
   "source": []
  },
  {
   "cell_type": "code",
   "execution_count": 24,
   "metadata": {
    "scrolled": true
   },
   "outputs": [
    {
     "data": {
      "text/plain": [
       "[53, 12, 115, 34, 101, 49, 12, 78, 113, 0]"
      ]
     },
     "execution_count": 24,
     "metadata": {},
     "output_type": "execute_result"
    }
   ],
   "source": [
    "y[:10]"
   ]
  },
  {
   "cell_type": "markdown",
   "metadata": {},
   "source": [
    "### convert black background to white background\n"
   ]
  },
  {
   "cell_type": "code",
   "execution_count": 25,
   "metadata": {
    "collapsed": true
   },
   "outputs": [],
   "source": [
    "#convert black to white (for zero padding)\n",
    "def inverse_grayscale(pixel_value):\n",
    "    return (255.-pixel_value)\n",
    "def inverse_scale_center(pixel_value):\n",
    "    return (((255.-pixel_value)/255)-0.5)\n",
    "v_inverse_grayscale = np.vectorize(inverse_grayscale)\n",
    "v_inverse_scale_center = np.vectorize(inverse_scale_center)\n",
    "\n",
    "X_transf = v_inverse_scale_center(X)"
   ]
  },
  {
   "cell_type": "code",
   "execution_count": 26,
   "metadata": {},
   "outputs": [
    {
     "name": "stdout",
     "output_type": "stream",
     "text": [
      "(24204, 64, 64, 1)\n",
      "(24204, 64, 64, 1)\n",
      "[53, 12, 115, 34, 101, 49, 12, 78, 113, 0]\n"
     ]
    }
   ],
   "source": [
    "# X (train&validation)\n",
    "print(X.shape)\n",
    "print(X_transf.shape)\n",
    "print(y[:10])"
   ]
  },
  {
   "cell_type": "code",
   "execution_count": 27,
   "metadata": {
    "collapsed": true
   },
   "outputs": [],
   "source": [
    "X_predict_transf = v_inverse_grayscale(X_predict)"
   ]
  },
  {
   "cell_type": "code",
   "execution_count": 28,
   "metadata": {},
   "outputs": [
    {
     "name": "stdout",
     "output_type": "stream",
     "text": [
      "(6132, 64, 64, 1)\n",
      "(6132, 64, 64, 1)\n",
      "What? they didn't give us the labels? \n",
      "WHY!???!\n"
     ]
    }
   ],
   "source": [
    "# X (train&validation)\n",
    "print(X_predict.shape)\n",
    "print(X_predict_transf.shape)\n",
    "print(\"What? they didn\\'t give us the labels? \\nWHY!???!\")"
   ]
  },
  {
   "cell_type": "code",
   "execution_count": 29,
   "metadata": {
    "collapsed": true
   },
   "outputs": [],
   "source": [
    "# a= test_datagen.flow(X_predict)"
   ]
  },
  {
   "cell_type": "code",
   "execution_count": 30,
   "metadata": {
    "collapsed": true
   },
   "outputs": [],
   "source": [
    "batch_size=64"
   ]
  },
  {
   "cell_type": "code",
   "execution_count": 31,
   "metadata": {
    "collapsed": true,
    "scrolled": false
   },
   "outputs": [],
   "source": [
    "# for x in range(batch_size):\n",
    "#     img = a.next()\n",
    "#     plt.imshow(reshape_to_view_img(img),cmap='gray')\n",
    "#     plt.show()"
   ]
  },
  {
   "cell_type": "code",
   "execution_count": null,
   "metadata": {
    "collapsed": true
   },
   "outputs": [],
   "source": []
  },
  {
   "cell_type": "code",
   "execution_count": 32,
   "metadata": {
    "collapsed": true
   },
   "outputs": [],
   "source": [
    "# (list(test_datagen.flow(X_predict,\n",
    "#                              shuffle=False, )) for jdsdj in [1])"
   ]
  },
  {
   "cell_type": "markdown",
   "metadata": {
    "collapsed": true
   },
   "source": [
    "### Train test split"
   ]
  },
  {
   "cell_type": "code",
   "execution_count": 33,
   "metadata": {
    "collapsed": true
   },
   "outputs": [],
   "source": [
    "# TODO roll back to X_transf instead of X\n",
    "X_train, X_test, y_train, y_test = train_test_split(\n",
    "    X_transf,to_categorical(y), \n",
    "    test_size=0.2, random_state=41,\n",
    "    stratify=to_categorical(y)\n",
    ")"
   ]
  },
  {
   "cell_type": "code",
   "execution_count": 34,
   "metadata": {},
   "outputs": [
    {
     "name": "stdout",
     "output_type": "stream",
     "text": [
      "X_train.shape: (19363, 64, 64, 1)\n",
      "y_train.shape (19363, 121)\n"
     ]
    }
   ],
   "source": [
    "print('X_train.shape:',X_train.shape)\n",
    "print('y_train.shape',y_train.shape)"
   ]
  },
  {
   "cell_type": "code",
   "execution_count": 35,
   "metadata": {
    "collapsed": true
   },
   "outputs": [],
   "source": [
    "# pd.DataFrame(y_train).value_counts().hist()"
   ]
  },
  {
   "cell_type": "code",
   "execution_count": 36,
   "metadata": {
    "collapsed": true
   },
   "outputs": [],
   "source": [
    "# pd.DataFrame(y_test).value_counts().hist()"
   ]
  },
  {
   "cell_type": "code",
   "execution_count": null,
   "metadata": {
    "collapsed": true
   },
   "outputs": [],
   "source": []
  },
  {
   "cell_type": "code",
   "execution_count": null,
   "metadata": {
    "collapsed": true
   },
   "outputs": [],
   "source": []
  },
  {
   "cell_type": "code",
   "execution_count": null,
   "metadata": {
    "collapsed": true
   },
   "outputs": [],
   "source": []
  },
  {
   "cell_type": "markdown",
   "metadata": {},
   "source": [
    "# Image Augmentation"
   ]
  },
  {
   "cell_type": "code",
   "execution_count": 37,
   "metadata": {
    "collapsed": true
   },
   "outputs": [],
   "source": [
    "from keras.preprocessing.image import ImageDataGenerator"
   ]
  },
  {
   "cell_type": "markdown",
   "metadata": {},
   "source": [
    "# TODO\n",
    "## Fix ImageDataGenerator for prediction set"
   ]
  },
  {
   "cell_type": "code",
   "execution_count": 38,
   "metadata": {
    "scrolled": true
   },
   "outputs": [
    {
     "data": {
      "text/plain": [
       "array([[-0.5       ],\n",
       "       [-0.5       ],\n",
       "       [-0.5       ],\n",
       "       [-0.5       ],\n",
       "       [-0.5       ],\n",
       "       [-0.5       ],\n",
       "       [-0.5       ],\n",
       "       [-0.5       ],\n",
       "       [-0.5       ],\n",
       "       [-0.5       ],\n",
       "       [-0.5       ],\n",
       "       [-0.5       ],\n",
       "       [-0.5       ],\n",
       "       [-0.5       ],\n",
       "       [-0.49215686],\n",
       "       [-0.49215686],\n",
       "       [-0.49607843],\n",
       "       [-0.5       ],\n",
       "       [-0.5       ],\n",
       "       [-0.5       ],\n",
       "       [-0.49607843],\n",
       "       [-0.49607843],\n",
       "       [-0.5       ],\n",
       "       [-0.49215686],\n",
       "       [-0.48823529],\n",
       "       [-0.49607843],\n",
       "       [-0.49607843],\n",
       "       [-0.46078431],\n",
       "       [-0.25294118],\n",
       "       [-0.06078431],\n",
       "       [ 0.08823529],\n",
       "       [-0.19803922],\n",
       "       [-0.39019608],\n",
       "       [-0.48823529],\n",
       "       [-0.5       ],\n",
       "       [-0.5       ],\n",
       "       [-0.49607843],\n",
       "       [-0.25294118],\n",
       "       [-0.02941176],\n",
       "       [-0.0254902 ],\n",
       "       [-0.23333333],\n",
       "       [-0.5       ],\n",
       "       [-0.5       ],\n",
       "       [-0.5       ],\n",
       "       [-0.5       ],\n",
       "       [-0.49607843],\n",
       "       [-0.49607843],\n",
       "       [-0.5       ],\n",
       "       [-0.49607843],\n",
       "       [-0.49607843],\n",
       "       [-0.5       ],\n",
       "       [-0.5       ],\n",
       "       [-0.5       ],\n",
       "       [-0.5       ],\n",
       "       [-0.5       ],\n",
       "       [-0.5       ],\n",
       "       [-0.5       ],\n",
       "       [-0.5       ],\n",
       "       [-0.5       ],\n",
       "       [-0.5       ],\n",
       "       [-0.5       ],\n",
       "       [-0.5       ],\n",
       "       [-0.5       ],\n",
       "       [-0.5       ]])"
      ]
     },
     "execution_count": 38,
     "metadata": {},
     "output_type": "execute_result"
    }
   ],
   "source": [
    "X_train[22][22]"
   ]
  },
  {
   "cell_type": "code",
   "execution_count": 39,
   "metadata": {
    "collapsed": true,
    "scrolled": true
   },
   "outputs": [],
   "source": [
    "train_datagen = ImageDataGenerator(rotation_range=90,\n",
    "                                   #rescale=1./255.,\n",
    "                                    featurewise_center=True,\n",
    "                                    featurewise_std_normalization=True,\n",
    "                                    samplewise_std_normalization=False,\n",
    "                                    samplewise_center=False,\n",
    "                                   horizontal_flip=True,\n",
    "                                   vertical_flip=False,\n",
    "                                   zoom_range=0.1,\n",
    "                                   width_shift_range=0.1,\n",
    "                                   height_shift_range=0.1,\n",
    "                                   shear_range = (20/360)*(2*np.pi)\n",
    "                                )\n",
    "\n",
    "test_datagen = ImageDataGenerator(#rescale = 1./255,\n",
    "#                                  samplewise_std_normalization=True,\n",
    "                                    featurewise_center=True,\n",
    "                                    featurewise_std_normalization=True,\n",
    "                                    samplewise_std_normalization=False,\n",
    "                                    samplewise_center=False,\n",
    "                                 )\n",
    "\n",
    "train_datagen.fit(X_train)\n",
    "test_datagen.fit(X_test)"
   ]
  },
  {
   "cell_type": "code",
   "execution_count": 40,
   "metadata": {
    "collapsed": true
   },
   "outputs": [],
   "source": [
    "#export model history\n",
    "with open('test_datagen_trained' + '.pickle', 'wb') as file_pi:\n",
    "    pickle.dump(test_datagen, file_pi)"
   ]
  },
  {
   "cell_type": "markdown",
   "metadata": {
    "collapsed": true
   },
   "source": [
    "# Training part"
   ]
  },
  {
   "cell_type": "code",
   "execution_count": 41,
   "metadata": {
    "collapsed": true
   },
   "outputs": [],
   "source": [
    "nr_of_classes = len(np.unique(y))"
   ]
  },
  {
   "cell_type": "code",
   "execution_count": 42,
   "metadata": {},
   "outputs": [
    {
     "data": {
      "text/plain": [
       "(64, 64)"
      ]
     },
     "execution_count": 42,
     "metadata": {},
     "output_type": "execute_result"
    }
   ],
   "source": [
    "input_size"
   ]
  },
  {
   "cell_type": "code",
   "execution_count": 43,
   "metadata": {
    "collapsed": true
   },
   "outputs": [],
   "source": [
    "reg_lambda = 0.01/255\n",
    "dropout_value = 0.25"
   ]
  },
  {
   "cell_type": "code",
   "execution_count": 44,
   "metadata": {
    "collapsed": true
   },
   "outputs": [],
   "source": [
    "model = keras.Sequential()\n",
    "\n",
    "model.add(InputLayer(input_shape=input_size + (1,)))\n",
    "\n",
    "########################\n",
    "\n",
    "model.add(Conv2D(12, kernel_size = (3,3),\n",
    "                 padding='same', \n",
    "                 kernel_regularizer=regularizers.l2(reg_lambda),\n",
    "                 activation='relu')\n",
    "         )\n",
    "model.add(MaxPooling2D(pool_size=(2, 2)))\n",
    "# model.add(Dropout(dropout_value))\n",
    "########################\n",
    "# 32 32 12\n",
    "# depth = 12\n",
    "########################\n",
    "\n",
    "model.add(Conv2D(24, kernel_size = (3, 3), #activation='relu',\n",
    "                padding='same',\n",
    "                kernel_regularizer=regularizers.l2(reg_lambda),\n",
    "                activation='relu',)\n",
    "         )\n",
    "model.add(MaxPooling2D((2,2)))\n",
    "# model.add(Dropout(dropout_value))\n",
    "########################\n",
    "# batch_size 16 16 24\n",
    "########################\n",
    "\n",
    "model.add(Conv2D(48, kernel_size = (3, 3), #activation='relu',\n",
    "                padding='same',\n",
    "                kernel_regularizer=regularizers.l2(reg_lambda),\n",
    "                activation='relu',)\n",
    "         )\n",
    "model.add(MaxPooling2D((2,2)))\n",
    "# model.add(Dropout(dropout_value))\n",
    "\n",
    "########################\n",
    "# batch_size 8 8 48\n",
    "########################\n",
    "\n",
    "model.add(Conv2D(96, kernel_size = (3, 3), #activation='relu',\n",
    "                padding='same',\n",
    "                kernel_regularizer=regularizers.l2(reg_lambda),\n",
    "                activation='relu',)\n",
    "         )\n",
    "\n",
    "# model.add(Conv2D(48, (1, 1), activation='relu', padding='same'))\n",
    "model.add(MaxPooling2D((2,2)))\n",
    "model.add(Dropout(dropout_value))\n",
    "\n",
    "########################\n",
    "# batch_size 4 4 96\n",
    "########################\n",
    "\n",
    "model.add(Flatten())\n",
    "# model.add(Dropout(dropout_value))\n",
    "\n",
    "########################\n",
    "# 4*4* 48 = 16 * 48 = 768\n",
    "# (batch_size, 2048)\n",
    "########################\n",
    "\n",
    "# model.add(Dense(128, activation='relu'))\n",
    "\n",
    "########################\n",
    "model.add(Dense(256,\n",
    "                activation='relu',\n",
    "                kernel_regularizer=regularizers.l2(reg_lambda)\n",
    "               )\n",
    "         )\n",
    "\n",
    "model.add(Dropout(2*dropout_value))\n",
    "########################\n",
    "model.add(Dense(256,\n",
    "                activation='relu',\n",
    "                kernel_regularizer=regularizers.l2(reg_lambda)\n",
    "               )\n",
    "         )\n",
    "# model.add(Dropout(dropout_value))\n",
    "\n",
    "########################\n",
    "\n",
    "model.add(Dense(121, activation='softmax'))"
   ]
  },
  {
   "cell_type": "code",
   "execution_count": 45,
   "metadata": {
    "collapsed": true
   },
   "outputs": [],
   "source": [
    "model.compile(optimizer=keras.optimizers.Adam()\n",
    "              ,loss='categorical_crossentropy',\n",
    "              metrics=['accuracy'])"
   ]
  },
  {
   "cell_type": "code",
   "execution_count": 59,
   "metadata": {},
   "outputs": [
    {
     "name": "stdout",
     "output_type": "stream",
     "text": [
      "_________________________________________________________________\n",
      "Layer (type)                 Output Shape              Param #   \n",
      "=================================================================\n",
      "input_1 (InputLayer)         (None, 64, 64, 1)         0         \n",
      "_________________________________________________________________\n",
      "conv2d_1 (Conv2D)            (None, 64, 64, 12)        120       \n",
      "_________________________________________________________________\n",
      "max_pooling2d_1 (MaxPooling2 (None, 32, 32, 12)        0         \n",
      "_________________________________________________________________\n",
      "conv2d_2 (Conv2D)            (None, 32, 32, 24)        2616      \n",
      "_________________________________________________________________\n",
      "max_pooling2d_2 (MaxPooling2 (None, 16, 16, 24)        0         \n",
      "_________________________________________________________________\n",
      "conv2d_3 (Conv2D)            (None, 16, 16, 48)        10416     \n",
      "_________________________________________________________________\n",
      "max_pooling2d_3 (MaxPooling2 (None, 8, 8, 48)          0         \n",
      "_________________________________________________________________\n",
      "conv2d_4 (Conv2D)            (None, 8, 8, 96)          41568     \n",
      "_________________________________________________________________\n",
      "max_pooling2d_4 (MaxPooling2 (None, 4, 4, 96)          0         \n",
      "_________________________________________________________________\n",
      "dropout_1 (Dropout)          (None, 4, 4, 96)          0         \n",
      "_________________________________________________________________\n",
      "flatten_1 (Flatten)          (None, 1536)              0         \n",
      "_________________________________________________________________\n",
      "dense_1 (Dense)              (None, 256)               393472    \n",
      "_________________________________________________________________\n",
      "dropout_2 (Dropout)          (None, 256)               0         \n",
      "_________________________________________________________________\n",
      "dense_2 (Dense)              (None, 256)               65792     \n",
      "_________________________________________________________________\n",
      "dense_3 (Dense)              (None, 121)               31097     \n",
      "=================================================================\n",
      "Total params: 545,081\n",
      "Trainable params: 545,081\n",
      "Non-trainable params: 0\n",
      "_________________________________________________________________\n"
     ]
    }
   ],
   "source": [
    "model.summary()"
   ]
  },
  {
   "cell_type": "code",
   "execution_count": 47,
   "metadata": {
    "collapsed": true
   },
   "outputs": [],
   "source": [
    "# tf.exponential decay\n",
    "\n",
    "# global_step = tf.Variable(0, trainable=False)\n",
    "# starter_learning_rate = 0.1\n",
    "# learning_rate = tf.train.exponential_decay(starter_learning_rate, global_step,\n",
    "#                                            100000, 0.96, staircase=True)\n",
    "# # Passing global_step to minimize() will increment it at each step.\n",
    "# learning_step = (\n",
    "#     tf.train.GradientDescentOptimizer(learning_rate)\n",
    "#     .minimize(...my loss..., global_step=global_step)"
   ]
  },
  {
   "cell_type": "code",
   "execution_count": 48,
   "metadata": {
    "collapsed": true
   },
   "outputs": [],
   "source": [
    "batch_size = 64"
   ]
  },
  {
   "cell_type": "code",
   "execution_count": 49,
   "metadata": {
    "collapsed": true
   },
   "outputs": [],
   "source": [
    "# test_set = test_datagen.flow(X_test,\n",
    "#                              y=y_test,\n",
    "#                              shuffle=False,\n",
    "#                             batch_size = batch_size,\n",
    "#                             )"
   ]
  },
  {
   "cell_type": "code",
   "execution_count": 50,
   "metadata": {
    "collapsed": true
   },
   "outputs": [],
   "source": [
    "import tensorflow as tf\n",
    "from keras.callbacks import ReduceLROnPlateau,EarlyStopping,History"
   ]
  },
  {
   "cell_type": "code",
   "execution_count": 51,
   "metadata": {
    "collapsed": true
   },
   "outputs": [],
   "source": [
    "reduce_lr = ReduceLROnPlateau(monitor='val_loss', factor=0.2,\n",
    "                              patience=5, min_lr=1e-20,\n",
    "                             verbose=1)"
   ]
  },
  {
   "cell_type": "code",
   "execution_count": 52,
   "metadata": {
    "collapsed": true
   },
   "outputs": [],
   "source": [
    "early_stop = EarlyStopping(patience=25,verbose=1)"
   ]
  },
  {
   "cell_type": "code",
   "execution_count": 55,
   "metadata": {
    "collapsed": true
   },
   "outputs": [],
   "source": [
    "save_history = History()"
   ]
  },
  {
   "cell_type": "code",
   "execution_count": 56,
   "metadata": {
    "collapsed": true
   },
   "outputs": [],
   "source": [
    "# tf.train.exponential_decay(learning_rate=.1\n",
    "#                            ,global_step=302\n",
    "#                            ,decay_steps=302\n",
    "#                            ,decay_rate=0.96\n",
    "#                            ,staircase=True\n",
    "#                           )"
   ]
  },
  {
   "cell_type": "code",
   "execution_count": 57,
   "metadata": {
    "scrolled": true
   },
   "outputs": [
    {
     "name": "stdout",
     "output_type": "stream",
     "text": [
      "Epoch 1/200\n"
     ]
    },
    {
     "ename": "ResourceExhaustedError",
     "evalue": "OOM when allocating tensor with shape[3,3,48,96]\n\t [[Node: conv2d_4/Square = Square[T=DT_FLOAT, _device=\"/job:localhost/replica:0/task:0/device:GPU:0\"](conv2d_4/kernel/read)]]\n\t [[Node: metrics/acc/Mean/_149 = _Recv[client_terminated=false, recv_device=\"/job:localhost/replica:0/task:0/device:CPU:0\", send_device=\"/job:localhost/replica:0/task:0/device:GPU:0\", send_device_incarnation=1, tensor_name=\"edge_1205_metrics/acc/Mean\", tensor_type=DT_FLOAT, _device=\"/job:localhost/replica:0/task:0/device:CPU:0\"]()]]\n\nCaused by op 'conv2d_4/Square', defined at:\n  File \"/home/antonis/anaconda2/envs/kaggle/lib/python3.6/runpy.py\", line 193, in _run_module_as_main\n    \"__main__\", mod_spec)\n  File \"/home/antonis/anaconda2/envs/kaggle/lib/python3.6/runpy.py\", line 85, in _run_code\n    exec(code, run_globals)\n  File \"/home/antonis/anaconda2/envs/kaggle/lib/python3.6/site-packages/ipykernel/__main__.py\", line 3, in <module>\n    app.launch_new_instance()\n  File \"/home/antonis/anaconda2/envs/kaggle/lib/python3.6/site-packages/traitlets/config/application.py\", line 658, in launch_instance\n    app.start()\n  File \"/home/antonis/anaconda2/envs/kaggle/lib/python3.6/site-packages/ipykernel/kernelapp.py\", line 477, in start\n    ioloop.IOLoop.instance().start()\n  File \"/home/antonis/anaconda2/envs/kaggle/lib/python3.6/site-packages/zmq/eventloop/ioloop.py\", line 177, in start\n    super(ZMQIOLoop, self).start()\n  File \"/home/antonis/anaconda2/envs/kaggle/lib/python3.6/site-packages/tornado/ioloop.py\", line 888, in start\n    handler_func(fd_obj, events)\n  File \"/home/antonis/anaconda2/envs/kaggle/lib/python3.6/site-packages/tornado/stack_context.py\", line 277, in null_wrapper\n    return fn(*args, **kwargs)\n  File \"/home/antonis/anaconda2/envs/kaggle/lib/python3.6/site-packages/zmq/eventloop/zmqstream.py\", line 440, in _handle_events\n    self._handle_recv()\n  File \"/home/antonis/anaconda2/envs/kaggle/lib/python3.6/site-packages/zmq/eventloop/zmqstream.py\", line 472, in _handle_recv\n    self._run_callback(callback, msg)\n  File \"/home/antonis/anaconda2/envs/kaggle/lib/python3.6/site-packages/zmq/eventloop/zmqstream.py\", line 414, in _run_callback\n    callback(*args, **kwargs)\n  File \"/home/antonis/anaconda2/envs/kaggle/lib/python3.6/site-packages/tornado/stack_context.py\", line 277, in null_wrapper\n    return fn(*args, **kwargs)\n  File \"/home/antonis/anaconda2/envs/kaggle/lib/python3.6/site-packages/ipykernel/kernelbase.py\", line 283, in dispatcher\n    return self.dispatch_shell(stream, msg)\n  File \"/home/antonis/anaconda2/envs/kaggle/lib/python3.6/site-packages/ipykernel/kernelbase.py\", line 235, in dispatch_shell\n    handler(stream, idents, msg)\n  File \"/home/antonis/anaconda2/envs/kaggle/lib/python3.6/site-packages/ipykernel/kernelbase.py\", line 399, in execute_request\n    user_expressions, allow_stdin)\n  File \"/home/antonis/anaconda2/envs/kaggle/lib/python3.6/site-packages/ipykernel/ipkernel.py\", line 196, in do_execute\n    res = shell.run_cell(code, store_history=store_history, silent=silent)\n  File \"/home/antonis/anaconda2/envs/kaggle/lib/python3.6/site-packages/ipykernel/zmqshell.py\", line 533, in run_cell\n    return super(ZMQInteractiveShell, self).run_cell(*args, **kwargs)\n  File \"/home/antonis/anaconda2/envs/kaggle/lib/python3.6/site-packages/IPython/core/interactiveshell.py\", line 2728, in run_cell\n    interactivity=interactivity, compiler=compiler, result=result)\n  File \"/home/antonis/anaconda2/envs/kaggle/lib/python3.6/site-packages/IPython/core/interactiveshell.py\", line 2850, in run_ast_nodes\n    if self.run_code(code, result):\n  File \"/home/antonis/anaconda2/envs/kaggle/lib/python3.6/site-packages/IPython/core/interactiveshell.py\", line 2910, in run_code\n    exec(code_obj, self.user_global_ns, self.user_ns)\n  File \"<ipython-input-44-8c35f0e82003>\", line 45, in <module>\n    activation='relu',)\n  File \"/home/antonis/anaconda2/envs/kaggle/lib/python3.6/site-packages/keras/models.py\", line 475, in add\n    output_tensor = layer(self.outputs[0])\n  File \"/home/antonis/anaconda2/envs/kaggle/lib/python3.6/site-packages/keras/engine/topology.py\", line 576, in __call__\n    self.build(input_shapes[0])\n  File \"/home/antonis/anaconda2/envs/kaggle/lib/python3.6/site-packages/keras/layers/convolutional.py\", line 134, in build\n    constraint=self.kernel_constraint)\n  File \"/home/antonis/anaconda2/envs/kaggle/lib/python3.6/site-packages/keras/legacy/interfaces.py\", line 87, in wrapper\n    return func(*args, **kwargs)\n  File \"/home/antonis/anaconda2/envs/kaggle/lib/python3.6/site-packages/keras/engine/topology.py\", line 402, in add_weight\n    self.add_loss(regularizer(weight))\n  File \"/home/antonis/anaconda2/envs/kaggle/lib/python3.6/site-packages/keras/regularizers.py\", line 37, in __call__\n    regularization += K.sum(self.l2 * K.square(x))\n  File \"/home/antonis/anaconda2/envs/kaggle/lib/python3.6/site-packages/keras/backend/tensorflow_backend.py\", line 1408, in square\n    return tf.square(x)\n  File \"/home/antonis/anaconda2/envs/kaggle/lib/python3.6/site-packages/tensorflow/python/ops/math_ops.py\", line 449, in square\n    return gen_math_ops.square(x, name=name)\n  File \"/home/antonis/anaconda2/envs/kaggle/lib/python3.6/site-packages/tensorflow/python/ops/gen_math_ops.py\", line 4567, in square\n    \"Square\", x=x, name=name)\n  File \"/home/antonis/anaconda2/envs/kaggle/lib/python3.6/site-packages/tensorflow/python/framework/op_def_library.py\", line 787, in _apply_op_helper\n    op_def=op_def)\n  File \"/home/antonis/anaconda2/envs/kaggle/lib/python3.6/site-packages/tensorflow/python/framework/ops.py\", line 2956, in create_op\n    op_def=op_def)\n  File \"/home/antonis/anaconda2/envs/kaggle/lib/python3.6/site-packages/tensorflow/python/framework/ops.py\", line 1470, in __init__\n    self._traceback = self._graph._extract_stack()  # pylint: disable=protected-access\n\nResourceExhaustedError (see above for traceback): OOM when allocating tensor with shape[3,3,48,96]\n\t [[Node: conv2d_4/Square = Square[T=DT_FLOAT, _device=\"/job:localhost/replica:0/task:0/device:GPU:0\"](conv2d_4/kernel/read)]]\n\t [[Node: metrics/acc/Mean/_149 = _Recv[client_terminated=false, recv_device=\"/job:localhost/replica:0/task:0/device:CPU:0\", send_device=\"/job:localhost/replica:0/task:0/device:GPU:0\", send_device_incarnation=1, tensor_name=\"edge_1205_metrics/acc/Mean\", tensor_type=DT_FLOAT, _device=\"/job:localhost/replica:0/task:0/device:CPU:0\"]()]]\n",
     "output_type": "error",
     "traceback": [
      "\u001b[0;31m---------------------------------------------------------------------------\u001b[0m",
      "\u001b[0;31mResourceExhaustedError\u001b[0m                    Traceback (most recent call last)",
      "\u001b[0;32m~/anaconda2/envs/kaggle/lib/python3.6/site-packages/tensorflow/python/client/session.py\u001b[0m in \u001b[0;36m_do_call\u001b[0;34m(self, fn, *args)\u001b[0m\n\u001b[1;32m   1322\u001b[0m     \u001b[0;32mtry\u001b[0m\u001b[0;34m:\u001b[0m\u001b[0;34m\u001b[0m\u001b[0m\n\u001b[0;32m-> 1323\u001b[0;31m       \u001b[0;32mreturn\u001b[0m \u001b[0mfn\u001b[0m\u001b[0;34m(\u001b[0m\u001b[0;34m*\u001b[0m\u001b[0margs\u001b[0m\u001b[0;34m)\u001b[0m\u001b[0;34m\u001b[0m\u001b[0m\n\u001b[0m\u001b[1;32m   1324\u001b[0m     \u001b[0;32mexcept\u001b[0m \u001b[0merrors\u001b[0m\u001b[0;34m.\u001b[0m\u001b[0mOpError\u001b[0m \u001b[0;32mas\u001b[0m \u001b[0me\u001b[0m\u001b[0;34m:\u001b[0m\u001b[0;34m\u001b[0m\u001b[0m\n",
      "\u001b[0;32m~/anaconda2/envs/kaggle/lib/python3.6/site-packages/tensorflow/python/client/session.py\u001b[0m in \u001b[0;36m_run_fn\u001b[0;34m(session, feed_dict, fetch_list, target_list, options, run_metadata)\u001b[0m\n\u001b[1;32m   1301\u001b[0m                                    \u001b[0mfeed_dict\u001b[0m\u001b[0;34m,\u001b[0m \u001b[0mfetch_list\u001b[0m\u001b[0;34m,\u001b[0m \u001b[0mtarget_list\u001b[0m\u001b[0;34m,\u001b[0m\u001b[0;34m\u001b[0m\u001b[0m\n\u001b[0;32m-> 1302\u001b[0;31m                                    status, run_metadata)\n\u001b[0m\u001b[1;32m   1303\u001b[0m \u001b[0;34m\u001b[0m\u001b[0m\n",
      "\u001b[0;32m~/anaconda2/envs/kaggle/lib/python3.6/site-packages/tensorflow/python/framework/errors_impl.py\u001b[0m in \u001b[0;36m__exit__\u001b[0;34m(self, type_arg, value_arg, traceback_arg)\u001b[0m\n\u001b[1;32m    472\u001b[0m             \u001b[0mcompat\u001b[0m\u001b[0;34m.\u001b[0m\u001b[0mas_text\u001b[0m\u001b[0;34m(\u001b[0m\u001b[0mc_api\u001b[0m\u001b[0;34m.\u001b[0m\u001b[0mTF_Message\u001b[0m\u001b[0;34m(\u001b[0m\u001b[0mself\u001b[0m\u001b[0;34m.\u001b[0m\u001b[0mstatus\u001b[0m\u001b[0;34m.\u001b[0m\u001b[0mstatus\u001b[0m\u001b[0;34m)\u001b[0m\u001b[0;34m)\u001b[0m\u001b[0;34m,\u001b[0m\u001b[0;34m\u001b[0m\u001b[0m\n\u001b[0;32m--> 473\u001b[0;31m             c_api.TF_GetCode(self.status.status))\n\u001b[0m\u001b[1;32m    474\u001b[0m     \u001b[0;31m# Delete the underlying status object from memory otherwise it stays alive\u001b[0m\u001b[0;34m\u001b[0m\u001b[0;34m\u001b[0m\u001b[0m\n",
      "\u001b[0;31mResourceExhaustedError\u001b[0m: OOM when allocating tensor with shape[3,3,48,96]\n\t [[Node: conv2d_4/Square = Square[T=DT_FLOAT, _device=\"/job:localhost/replica:0/task:0/device:GPU:0\"](conv2d_4/kernel/read)]]\n\t [[Node: metrics/acc/Mean/_149 = _Recv[client_terminated=false, recv_device=\"/job:localhost/replica:0/task:0/device:CPU:0\", send_device=\"/job:localhost/replica:0/task:0/device:GPU:0\", send_device_incarnation=1, tensor_name=\"edge_1205_metrics/acc/Mean\", tensor_type=DT_FLOAT, _device=\"/job:localhost/replica:0/task:0/device:CPU:0\"]()]]",
      "\nDuring handling of the above exception, another exception occurred:\n",
      "\u001b[0;31mResourceExhaustedError\u001b[0m                    Traceback (most recent call last)",
      "\u001b[0;32m<ipython-input-57-2cb4323e18c6>\u001b[0m in \u001b[0;36m<module>\u001b[0;34m()\u001b[0m\n\u001b[1;32m     10\u001b[0m     \u001b[0;31m#Validation\u001b[0m\u001b[0;34m\u001b[0m\u001b[0;34m\u001b[0m\u001b[0m\n\u001b[1;32m     11\u001b[0m     \u001b[0mvalidation_data\u001b[0m\u001b[0;34m=\u001b[0m\u001b[0mtest_datagen\u001b[0m\u001b[0;34m.\u001b[0m\u001b[0mflow\u001b[0m\u001b[0;34m(\u001b[0m\u001b[0mX_test\u001b[0m\u001b[0;34m,\u001b[0m\u001b[0my_test\u001b[0m\u001b[0;34m,\u001b[0m \u001b[0mbatch_size\u001b[0m\u001b[0;34m=\u001b[0m\u001b[0mbatch_size\u001b[0m\u001b[0;34m)\u001b[0m\u001b[0;34m,\u001b[0m\u001b[0;34m\u001b[0m\u001b[0m\n\u001b[0;32m---> 12\u001b[0;31m     \u001b[0mvalidation_steps\u001b[0m \u001b[0;34m=\u001b[0m \u001b[0;34m(\u001b[0m\u001b[0mlen\u001b[0m\u001b[0;34m(\u001b[0m\u001b[0mX_test\u001b[0m\u001b[0;34m)\u001b[0m\u001b[0;34m/\u001b[0m\u001b[0mbatch_size\u001b[0m\u001b[0;34m)\u001b[0m\u001b[0;34m,\u001b[0m \u001b[0;31m#number of samples of your validation dataset divided by the batch size.\u001b[0m\u001b[0;34m\u001b[0m\u001b[0m\n\u001b[0m\u001b[1;32m     13\u001b[0m \u001b[0;34m\u001b[0m\u001b[0m\n\u001b[1;32m     14\u001b[0m     \u001b[0;31m#Class imbalance\u001b[0m\u001b[0;34m\u001b[0m\u001b[0;34m\u001b[0m\u001b[0m\n",
      "\u001b[0;32m~/anaconda2/envs/kaggle/lib/python3.6/site-packages/keras/legacy/interfaces.py\u001b[0m in \u001b[0;36mwrapper\u001b[0;34m(*args, **kwargs)\u001b[0m\n\u001b[1;32m     85\u001b[0m                 warnings.warn('Update your `' + object_name +\n\u001b[1;32m     86\u001b[0m                               '` call to the Keras 2 API: ' + signature, stacklevel=2)\n\u001b[0;32m---> 87\u001b[0;31m             \u001b[0;32mreturn\u001b[0m \u001b[0mfunc\u001b[0m\u001b[0;34m(\u001b[0m\u001b[0;34m*\u001b[0m\u001b[0margs\u001b[0m\u001b[0;34m,\u001b[0m \u001b[0;34m**\u001b[0m\u001b[0mkwargs\u001b[0m\u001b[0;34m)\u001b[0m\u001b[0;34m\u001b[0m\u001b[0m\n\u001b[0m\u001b[1;32m     88\u001b[0m         \u001b[0mwrapper\u001b[0m\u001b[0;34m.\u001b[0m\u001b[0m_original_function\u001b[0m \u001b[0;34m=\u001b[0m \u001b[0mfunc\u001b[0m\u001b[0;34m\u001b[0m\u001b[0m\n\u001b[1;32m     89\u001b[0m         \u001b[0;32mreturn\u001b[0m \u001b[0mwrapper\u001b[0m\u001b[0;34m\u001b[0m\u001b[0m\n",
      "\u001b[0;32m~/anaconda2/envs/kaggle/lib/python3.6/site-packages/keras/models.py\u001b[0m in \u001b[0;36mfit_generator\u001b[0;34m(self, generator, steps_per_epoch, epochs, verbose, callbacks, validation_data, validation_steps, class_weight, max_queue_size, workers, use_multiprocessing, shuffle, initial_epoch)\u001b[0m\n\u001b[1;32m   1154\u001b[0m                                         \u001b[0muse_multiprocessing\u001b[0m\u001b[0;34m=\u001b[0m\u001b[0muse_multiprocessing\u001b[0m\u001b[0;34m,\u001b[0m\u001b[0;34m\u001b[0m\u001b[0m\n\u001b[1;32m   1155\u001b[0m                                         \u001b[0mshuffle\u001b[0m\u001b[0;34m=\u001b[0m\u001b[0mshuffle\u001b[0m\u001b[0;34m,\u001b[0m\u001b[0;34m\u001b[0m\u001b[0m\n\u001b[0;32m-> 1156\u001b[0;31m                                         initial_epoch=initial_epoch)\n\u001b[0m\u001b[1;32m   1157\u001b[0m \u001b[0;34m\u001b[0m\u001b[0m\n\u001b[1;32m   1158\u001b[0m     \u001b[0;34m@\u001b[0m\u001b[0minterfaces\u001b[0m\u001b[0;34m.\u001b[0m\u001b[0mlegacy_generator_methods_support\u001b[0m\u001b[0;34m\u001b[0m\u001b[0m\n",
      "\u001b[0;32m~/anaconda2/envs/kaggle/lib/python3.6/site-packages/keras/legacy/interfaces.py\u001b[0m in \u001b[0;36mwrapper\u001b[0;34m(*args, **kwargs)\u001b[0m\n\u001b[1;32m     85\u001b[0m                 warnings.warn('Update your `' + object_name +\n\u001b[1;32m     86\u001b[0m                               '` call to the Keras 2 API: ' + signature, stacklevel=2)\n\u001b[0;32m---> 87\u001b[0;31m             \u001b[0;32mreturn\u001b[0m \u001b[0mfunc\u001b[0m\u001b[0;34m(\u001b[0m\u001b[0;34m*\u001b[0m\u001b[0margs\u001b[0m\u001b[0;34m,\u001b[0m \u001b[0;34m**\u001b[0m\u001b[0mkwargs\u001b[0m\u001b[0;34m)\u001b[0m\u001b[0;34m\u001b[0m\u001b[0m\n\u001b[0m\u001b[1;32m     88\u001b[0m         \u001b[0mwrapper\u001b[0m\u001b[0;34m.\u001b[0m\u001b[0m_original_function\u001b[0m \u001b[0;34m=\u001b[0m \u001b[0mfunc\u001b[0m\u001b[0;34m\u001b[0m\u001b[0m\n\u001b[1;32m     89\u001b[0m         \u001b[0;32mreturn\u001b[0m \u001b[0mwrapper\u001b[0m\u001b[0;34m\u001b[0m\u001b[0m\n",
      "\u001b[0;32m~/anaconda2/envs/kaggle/lib/python3.6/site-packages/keras/engine/training.py\u001b[0m in \u001b[0;36mfit_generator\u001b[0;34m(self, generator, steps_per_epoch, epochs, verbose, callbacks, validation_data, validation_steps, class_weight, max_queue_size, workers, use_multiprocessing, shuffle, initial_epoch)\u001b[0m\n\u001b[1;32m   2075\u001b[0m                     outs = self.train_on_batch(x, y,\n\u001b[1;32m   2076\u001b[0m                                                \u001b[0msample_weight\u001b[0m\u001b[0;34m=\u001b[0m\u001b[0msample_weight\u001b[0m\u001b[0;34m,\u001b[0m\u001b[0;34m\u001b[0m\u001b[0m\n\u001b[0;32m-> 2077\u001b[0;31m                                                class_weight=class_weight)\n\u001b[0m\u001b[1;32m   2078\u001b[0m \u001b[0;34m\u001b[0m\u001b[0m\n\u001b[1;32m   2079\u001b[0m                     \u001b[0;32mif\u001b[0m \u001b[0;32mnot\u001b[0m \u001b[0misinstance\u001b[0m\u001b[0;34m(\u001b[0m\u001b[0mouts\u001b[0m\u001b[0;34m,\u001b[0m \u001b[0mlist\u001b[0m\u001b[0;34m)\u001b[0m\u001b[0;34m:\u001b[0m\u001b[0;34m\u001b[0m\u001b[0m\n",
      "\u001b[0;32m~/anaconda2/envs/kaggle/lib/python3.6/site-packages/keras/engine/training.py\u001b[0m in \u001b[0;36mtrain_on_batch\u001b[0;34m(self, x, y, sample_weight, class_weight)\u001b[0m\n\u001b[1;32m   1795\u001b[0m             \u001b[0mins\u001b[0m \u001b[0;34m=\u001b[0m \u001b[0mx\u001b[0m \u001b[0;34m+\u001b[0m \u001b[0my\u001b[0m \u001b[0;34m+\u001b[0m \u001b[0msample_weights\u001b[0m\u001b[0;34m\u001b[0m\u001b[0m\n\u001b[1;32m   1796\u001b[0m         \u001b[0mself\u001b[0m\u001b[0;34m.\u001b[0m\u001b[0m_make_train_function\u001b[0m\u001b[0;34m(\u001b[0m\u001b[0;34m)\u001b[0m\u001b[0;34m\u001b[0m\u001b[0m\n\u001b[0;32m-> 1797\u001b[0;31m         \u001b[0moutputs\u001b[0m \u001b[0;34m=\u001b[0m \u001b[0mself\u001b[0m\u001b[0;34m.\u001b[0m\u001b[0mtrain_function\u001b[0m\u001b[0;34m(\u001b[0m\u001b[0mins\u001b[0m\u001b[0;34m)\u001b[0m\u001b[0;34m\u001b[0m\u001b[0m\n\u001b[0m\u001b[1;32m   1798\u001b[0m         \u001b[0;32mif\u001b[0m \u001b[0mlen\u001b[0m\u001b[0;34m(\u001b[0m\u001b[0moutputs\u001b[0m\u001b[0;34m)\u001b[0m \u001b[0;34m==\u001b[0m \u001b[0;36m1\u001b[0m\u001b[0;34m:\u001b[0m\u001b[0;34m\u001b[0m\u001b[0m\n\u001b[1;32m   1799\u001b[0m             \u001b[0;32mreturn\u001b[0m \u001b[0moutputs\u001b[0m\u001b[0;34m[\u001b[0m\u001b[0;36m0\u001b[0m\u001b[0;34m]\u001b[0m\u001b[0;34m\u001b[0m\u001b[0m\n",
      "\u001b[0;32m~/anaconda2/envs/kaggle/lib/python3.6/site-packages/keras/backend/tensorflow_backend.py\u001b[0m in \u001b[0;36m__call__\u001b[0;34m(self, inputs)\u001b[0m\n\u001b[1;32m   2330\u001b[0m         updated = session.run(self.outputs + [self.updates_op],\n\u001b[1;32m   2331\u001b[0m                               \u001b[0mfeed_dict\u001b[0m\u001b[0;34m=\u001b[0m\u001b[0mfeed_dict\u001b[0m\u001b[0;34m,\u001b[0m\u001b[0;34m\u001b[0m\u001b[0m\n\u001b[0;32m-> 2332\u001b[0;31m                               **self.session_kwargs)\n\u001b[0m\u001b[1;32m   2333\u001b[0m         \u001b[0;32mreturn\u001b[0m \u001b[0mupdated\u001b[0m\u001b[0;34m[\u001b[0m\u001b[0;34m:\u001b[0m\u001b[0mlen\u001b[0m\u001b[0;34m(\u001b[0m\u001b[0mself\u001b[0m\u001b[0;34m.\u001b[0m\u001b[0moutputs\u001b[0m\u001b[0;34m)\u001b[0m\u001b[0;34m]\u001b[0m\u001b[0;34m\u001b[0m\u001b[0m\n\u001b[1;32m   2334\u001b[0m \u001b[0;34m\u001b[0m\u001b[0m\n",
      "\u001b[0;32m~/anaconda2/envs/kaggle/lib/python3.6/site-packages/tensorflow/python/client/session.py\u001b[0m in \u001b[0;36mrun\u001b[0;34m(self, fetches, feed_dict, options, run_metadata)\u001b[0m\n\u001b[1;32m    887\u001b[0m     \u001b[0;32mtry\u001b[0m\u001b[0;34m:\u001b[0m\u001b[0;34m\u001b[0m\u001b[0m\n\u001b[1;32m    888\u001b[0m       result = self._run(None, fetches, feed_dict, options_ptr,\n\u001b[0;32m--> 889\u001b[0;31m                          run_metadata_ptr)\n\u001b[0m\u001b[1;32m    890\u001b[0m       \u001b[0;32mif\u001b[0m \u001b[0mrun_metadata\u001b[0m\u001b[0;34m:\u001b[0m\u001b[0;34m\u001b[0m\u001b[0m\n\u001b[1;32m    891\u001b[0m         \u001b[0mproto_data\u001b[0m \u001b[0;34m=\u001b[0m \u001b[0mtf_session\u001b[0m\u001b[0;34m.\u001b[0m\u001b[0mTF_GetBuffer\u001b[0m\u001b[0;34m(\u001b[0m\u001b[0mrun_metadata_ptr\u001b[0m\u001b[0;34m)\u001b[0m\u001b[0;34m\u001b[0m\u001b[0m\n",
      "\u001b[0;32m~/anaconda2/envs/kaggle/lib/python3.6/site-packages/tensorflow/python/client/session.py\u001b[0m in \u001b[0;36m_run\u001b[0;34m(self, handle, fetches, feed_dict, options, run_metadata)\u001b[0m\n\u001b[1;32m   1118\u001b[0m     \u001b[0;32mif\u001b[0m \u001b[0mfinal_fetches\u001b[0m \u001b[0;32mor\u001b[0m \u001b[0mfinal_targets\u001b[0m \u001b[0;32mor\u001b[0m \u001b[0;34m(\u001b[0m\u001b[0mhandle\u001b[0m \u001b[0;32mand\u001b[0m \u001b[0mfeed_dict_tensor\u001b[0m\u001b[0;34m)\u001b[0m\u001b[0;34m:\u001b[0m\u001b[0;34m\u001b[0m\u001b[0m\n\u001b[1;32m   1119\u001b[0m       results = self._do_run(handle, final_targets, final_fetches,\n\u001b[0;32m-> 1120\u001b[0;31m                              feed_dict_tensor, options, run_metadata)\n\u001b[0m\u001b[1;32m   1121\u001b[0m     \u001b[0;32melse\u001b[0m\u001b[0;34m:\u001b[0m\u001b[0;34m\u001b[0m\u001b[0m\n\u001b[1;32m   1122\u001b[0m       \u001b[0mresults\u001b[0m \u001b[0;34m=\u001b[0m \u001b[0;34m[\u001b[0m\u001b[0;34m]\u001b[0m\u001b[0;34m\u001b[0m\u001b[0m\n",
      "\u001b[0;32m~/anaconda2/envs/kaggle/lib/python3.6/site-packages/tensorflow/python/client/session.py\u001b[0m in \u001b[0;36m_do_run\u001b[0;34m(self, handle, target_list, fetch_list, feed_dict, options, run_metadata)\u001b[0m\n\u001b[1;32m   1315\u001b[0m     \u001b[0;32mif\u001b[0m \u001b[0mhandle\u001b[0m \u001b[0;32mis\u001b[0m \u001b[0;32mNone\u001b[0m\u001b[0;34m:\u001b[0m\u001b[0;34m\u001b[0m\u001b[0m\n\u001b[1;32m   1316\u001b[0m       return self._do_call(_run_fn, self._session, feeds, fetches, targets,\n\u001b[0;32m-> 1317\u001b[0;31m                            options, run_metadata)\n\u001b[0m\u001b[1;32m   1318\u001b[0m     \u001b[0;32melse\u001b[0m\u001b[0;34m:\u001b[0m\u001b[0;34m\u001b[0m\u001b[0m\n\u001b[1;32m   1319\u001b[0m       \u001b[0;32mreturn\u001b[0m \u001b[0mself\u001b[0m\u001b[0;34m.\u001b[0m\u001b[0m_do_call\u001b[0m\u001b[0;34m(\u001b[0m\u001b[0m_prun_fn\u001b[0m\u001b[0;34m,\u001b[0m \u001b[0mself\u001b[0m\u001b[0;34m.\u001b[0m\u001b[0m_session\u001b[0m\u001b[0;34m,\u001b[0m \u001b[0mhandle\u001b[0m\u001b[0;34m,\u001b[0m \u001b[0mfeeds\u001b[0m\u001b[0;34m,\u001b[0m \u001b[0mfetches\u001b[0m\u001b[0;34m)\u001b[0m\u001b[0;34m\u001b[0m\u001b[0m\n",
      "\u001b[0;32m~/anaconda2/envs/kaggle/lib/python3.6/site-packages/tensorflow/python/client/session.py\u001b[0m in \u001b[0;36m_do_call\u001b[0;34m(self, fn, *args)\u001b[0m\n\u001b[1;32m   1334\u001b[0m         \u001b[0;32mexcept\u001b[0m \u001b[0mKeyError\u001b[0m\u001b[0;34m:\u001b[0m\u001b[0;34m\u001b[0m\u001b[0m\n\u001b[1;32m   1335\u001b[0m           \u001b[0;32mpass\u001b[0m\u001b[0;34m\u001b[0m\u001b[0m\n\u001b[0;32m-> 1336\u001b[0;31m       \u001b[0;32mraise\u001b[0m \u001b[0mtype\u001b[0m\u001b[0;34m(\u001b[0m\u001b[0me\u001b[0m\u001b[0;34m)\u001b[0m\u001b[0;34m(\u001b[0m\u001b[0mnode_def\u001b[0m\u001b[0;34m,\u001b[0m \u001b[0mop\u001b[0m\u001b[0;34m,\u001b[0m \u001b[0mmessage\u001b[0m\u001b[0;34m)\u001b[0m\u001b[0;34m\u001b[0m\u001b[0m\n\u001b[0m\u001b[1;32m   1337\u001b[0m \u001b[0;34m\u001b[0m\u001b[0m\n\u001b[1;32m   1338\u001b[0m   \u001b[0;32mdef\u001b[0m \u001b[0m_extend_graph\u001b[0m\u001b[0;34m(\u001b[0m\u001b[0mself\u001b[0m\u001b[0;34m)\u001b[0m\u001b[0;34m:\u001b[0m\u001b[0;34m\u001b[0m\u001b[0m\n",
      "\u001b[0;31mResourceExhaustedError\u001b[0m: OOM when allocating tensor with shape[3,3,48,96]\n\t [[Node: conv2d_4/Square = Square[T=DT_FLOAT, _device=\"/job:localhost/replica:0/task:0/device:GPU:0\"](conv2d_4/kernel/read)]]\n\t [[Node: metrics/acc/Mean/_149 = _Recv[client_terminated=false, recv_device=\"/job:localhost/replica:0/task:0/device:CPU:0\", send_device=\"/job:localhost/replica:0/task:0/device:GPU:0\", send_device_incarnation=1, tensor_name=\"edge_1205_metrics/acc/Mean\", tensor_type=DT_FLOAT, _device=\"/job:localhost/replica:0/task:0/device:CPU:0\"]()]]\n\nCaused by op 'conv2d_4/Square', defined at:\n  File \"/home/antonis/anaconda2/envs/kaggle/lib/python3.6/runpy.py\", line 193, in _run_module_as_main\n    \"__main__\", mod_spec)\n  File \"/home/antonis/anaconda2/envs/kaggle/lib/python3.6/runpy.py\", line 85, in _run_code\n    exec(code, run_globals)\n  File \"/home/antonis/anaconda2/envs/kaggle/lib/python3.6/site-packages/ipykernel/__main__.py\", line 3, in <module>\n    app.launch_new_instance()\n  File \"/home/antonis/anaconda2/envs/kaggle/lib/python3.6/site-packages/traitlets/config/application.py\", line 658, in launch_instance\n    app.start()\n  File \"/home/antonis/anaconda2/envs/kaggle/lib/python3.6/site-packages/ipykernel/kernelapp.py\", line 477, in start\n    ioloop.IOLoop.instance().start()\n  File \"/home/antonis/anaconda2/envs/kaggle/lib/python3.6/site-packages/zmq/eventloop/ioloop.py\", line 177, in start\n    super(ZMQIOLoop, self).start()\n  File \"/home/antonis/anaconda2/envs/kaggle/lib/python3.6/site-packages/tornado/ioloop.py\", line 888, in start\n    handler_func(fd_obj, events)\n  File \"/home/antonis/anaconda2/envs/kaggle/lib/python3.6/site-packages/tornado/stack_context.py\", line 277, in null_wrapper\n    return fn(*args, **kwargs)\n  File \"/home/antonis/anaconda2/envs/kaggle/lib/python3.6/site-packages/zmq/eventloop/zmqstream.py\", line 440, in _handle_events\n    self._handle_recv()\n  File \"/home/antonis/anaconda2/envs/kaggle/lib/python3.6/site-packages/zmq/eventloop/zmqstream.py\", line 472, in _handle_recv\n    self._run_callback(callback, msg)\n  File \"/home/antonis/anaconda2/envs/kaggle/lib/python3.6/site-packages/zmq/eventloop/zmqstream.py\", line 414, in _run_callback\n    callback(*args, **kwargs)\n  File \"/home/antonis/anaconda2/envs/kaggle/lib/python3.6/site-packages/tornado/stack_context.py\", line 277, in null_wrapper\n    return fn(*args, **kwargs)\n  File \"/home/antonis/anaconda2/envs/kaggle/lib/python3.6/site-packages/ipykernel/kernelbase.py\", line 283, in dispatcher\n    return self.dispatch_shell(stream, msg)\n  File \"/home/antonis/anaconda2/envs/kaggle/lib/python3.6/site-packages/ipykernel/kernelbase.py\", line 235, in dispatch_shell\n    handler(stream, idents, msg)\n  File \"/home/antonis/anaconda2/envs/kaggle/lib/python3.6/site-packages/ipykernel/kernelbase.py\", line 399, in execute_request\n    user_expressions, allow_stdin)\n  File \"/home/antonis/anaconda2/envs/kaggle/lib/python3.6/site-packages/ipykernel/ipkernel.py\", line 196, in do_execute\n    res = shell.run_cell(code, store_history=store_history, silent=silent)\n  File \"/home/antonis/anaconda2/envs/kaggle/lib/python3.6/site-packages/ipykernel/zmqshell.py\", line 533, in run_cell\n    return super(ZMQInteractiveShell, self).run_cell(*args, **kwargs)\n  File \"/home/antonis/anaconda2/envs/kaggle/lib/python3.6/site-packages/IPython/core/interactiveshell.py\", line 2728, in run_cell\n    interactivity=interactivity, compiler=compiler, result=result)\n  File \"/home/antonis/anaconda2/envs/kaggle/lib/python3.6/site-packages/IPython/core/interactiveshell.py\", line 2850, in run_ast_nodes\n    if self.run_code(code, result):\n  File \"/home/antonis/anaconda2/envs/kaggle/lib/python3.6/site-packages/IPython/core/interactiveshell.py\", line 2910, in run_code\n    exec(code_obj, self.user_global_ns, self.user_ns)\n  File \"<ipython-input-44-8c35f0e82003>\", line 45, in <module>\n    activation='relu',)\n  File \"/home/antonis/anaconda2/envs/kaggle/lib/python3.6/site-packages/keras/models.py\", line 475, in add\n    output_tensor = layer(self.outputs[0])\n  File \"/home/antonis/anaconda2/envs/kaggle/lib/python3.6/site-packages/keras/engine/topology.py\", line 576, in __call__\n    self.build(input_shapes[0])\n  File \"/home/antonis/anaconda2/envs/kaggle/lib/python3.6/site-packages/keras/layers/convolutional.py\", line 134, in build\n    constraint=self.kernel_constraint)\n  File \"/home/antonis/anaconda2/envs/kaggle/lib/python3.6/site-packages/keras/legacy/interfaces.py\", line 87, in wrapper\n    return func(*args, **kwargs)\n  File \"/home/antonis/anaconda2/envs/kaggle/lib/python3.6/site-packages/keras/engine/topology.py\", line 402, in add_weight\n    self.add_loss(regularizer(weight))\n  File \"/home/antonis/anaconda2/envs/kaggle/lib/python3.6/site-packages/keras/regularizers.py\", line 37, in __call__\n    regularization += K.sum(self.l2 * K.square(x))\n  File \"/home/antonis/anaconda2/envs/kaggle/lib/python3.6/site-packages/keras/backend/tensorflow_backend.py\", line 1408, in square\n    return tf.square(x)\n  File \"/home/antonis/anaconda2/envs/kaggle/lib/python3.6/site-packages/tensorflow/python/ops/math_ops.py\", line 449, in square\n    return gen_math_ops.square(x, name=name)\n  File \"/home/antonis/anaconda2/envs/kaggle/lib/python3.6/site-packages/tensorflow/python/ops/gen_math_ops.py\", line 4567, in square\n    \"Square\", x=x, name=name)\n  File \"/home/antonis/anaconda2/envs/kaggle/lib/python3.6/site-packages/tensorflow/python/framework/op_def_library.py\", line 787, in _apply_op_helper\n    op_def=op_def)\n  File \"/home/antonis/anaconda2/envs/kaggle/lib/python3.6/site-packages/tensorflow/python/framework/ops.py\", line 2956, in create_op\n    op_def=op_def)\n  File \"/home/antonis/anaconda2/envs/kaggle/lib/python3.6/site-packages/tensorflow/python/framework/ops.py\", line 1470, in __init__\n    self._traceback = self._graph._extract_stack()  # pylint: disable=protected-access\n\nResourceExhaustedError (see above for traceback): OOM when allocating tensor with shape[3,3,48,96]\n\t [[Node: conv2d_4/Square = Square[T=DT_FLOAT, _device=\"/job:localhost/replica:0/task:0/device:GPU:0\"](conv2d_4/kernel/read)]]\n\t [[Node: metrics/acc/Mean/_149 = _Recv[client_terminated=false, recv_device=\"/job:localhost/replica:0/task:0/device:CPU:0\", send_device=\"/job:localhost/replica:0/task:0/device:GPU:0\", send_device_incarnation=1, tensor_name=\"edge_1205_metrics/acc/Mean\", tensor_type=DT_FLOAT, _device=\"/job:localhost/replica:0/task:0/device:CPU:0\"]()]]\n"
     ]
    }
   ],
   "source": [
    "mod_history = model.fit_generator(\n",
    "    train_datagen.flow(X_train, y_train, batch_size=batch_size),\n",
    "    #define epochs\n",
    "    epochs=200,\n",
    "    initial_epoch=0,\n",
    "    \n",
    "    verbose=1, \n",
    "    steps_per_epoch=(len(X_train))/batch_size,\n",
    "    \n",
    "    #Validation\n",
    "    validation_data=test_datagen.flow(X_test,y_test, batch_size=batch_size),\n",
    "    validation_steps = (len(X_test)/batch_size), #number of samples of your validation dataset divided by the batch size.\n",
    "    \n",
    "    #Class imbalance\n",
    "    #class_weight = class_weights,\n",
    "    \n",
    "    #Callbacks\n",
    "    #callbacks=[early_stop,save_history],\n",
    ")\n"
   ]
  },
  {
   "cell_type": "code",
   "execution_count": null,
   "metadata": {
    "collapsed": true
   },
   "outputs": [],
   "source": [
    "# history = model.fit(X_train, y_train,\n",
    "#                     batch_size=64, epochs=30, \n",
    "#                     verbose=1, \n",
    "#                     validation_data=[X_test, y_test])"
   ]
  },
  {
   "cell_type": "markdown",
   "metadata": {},
   "source": [
    "# Learning curves"
   ]
  },
  {
   "cell_type": "markdown",
   "metadata": {},
   "source": [
    "## CAUTION:\n",
    "# If run, following cell will delete previous values :"
   ]
  },
  {
   "cell_type": "code",
   "execution_count": 69,
   "metadata": {
    "collapsed": true
   },
   "outputs": [],
   "source": [
    "# #create a new learning curve\n",
    "# learn_curve = pd.DataFrame(columns=['train', 'test', 'train_rolling', 'test_rolling'])"
   ]
  },
  {
   "cell_type": "code",
   "execution_count": 70,
   "metadata": {
    "scrolled": true
   },
   "outputs": [
    {
     "name": "stderr",
     "output_type": "stream",
     "text": [
      "/home/antonis/anaconda2/envs/kaggle/lib/python3.6/site-packages/ipykernel/__main__.py:5: FutureWarning: pd.rolling_mean is deprecated for Series and will be removed in a future version, replace with \n",
      "\tSeries.rolling(window=5,center=False).mean()\n",
      "/home/antonis/anaconda2/envs/kaggle/lib/python3.6/site-packages/ipykernel/__main__.py:6: FutureWarning: pd.rolling_mean is deprecated for Series and will be removed in a future version, replace with \n",
      "\tSeries.rolling(window=20,center=False).mean()\n"
     ]
    }
   ],
   "source": [
    "# append new values to a learning curve (extend epochs to see progress)\n",
    "learn_curve_new = pd.DataFrame()\n",
    "learn_curve_new['train'] = mod_history.history['acc']\n",
    "learn_curve_new['test'] = mod_history.history['val_acc']\n",
    "learn_curve_new['train_rolling'] = pd.rolling_mean(learn_curve_new.train,window=5)\n",
    "learn_curve_new['test_rolling'] = pd.rolling_mean(learn_curve_new.test,window=20)\n",
    "#append to previous df\n",
    "learn_curve = learn_curve.append(learn_curve_new,ignore_index=True)"
   ]
  },
  {
   "cell_type": "code",
   "execution_count": 71,
   "metadata": {
    "collapsed": true,
    "scrolled": true
   },
   "outputs": [],
   "source": [
    "\n",
    "# learn_curve['train'] = mod_history.history['acc']\n",
    "# learn_curve['test'] = mod_history.history['val_acc']\n",
    "# learn_curve['train_rolling'] = pd.rolling_mean(learn_curve.train,window=5)\n",
    "# learn_curve['test_rolling'] = pd.rolling_mean(learn_curve.test,window=20)"
   ]
  },
  {
   "cell_type": "code",
   "execution_count": 72,
   "metadata": {
    "scrolled": false
   },
   "outputs": [
    {
     "data": {
      "text/plain": [
       "<matplotlib.legend.Legend at 0x7f8842dc6ba8>"
      ]
     },
     "execution_count": 72,
     "metadata": {},
     "output_type": "execute_result"
    },
    {
     "data": {
      "image/png": "[encoded data removed]",
      "text/plain": [
       "<matplotlib.figure.Figure at 0x7f8842e2b0b8>"
      ]
     },
     "metadata": {},
     "output_type": "display_data"
    }
   ],
   "source": [
    "# Plot the learning curve\n",
    "fig = plt.figure(figsize=(15, 10))\n",
    "plt.plot(learn_curve['train'], lw=1, label='train')\n",
    "plt.plot(learn_curve['test'], lw=1, label='test')\n",
    "plt.plot(learn_curve['train_rolling'], lw=4, label='train_rolling',alpha=.5)\n",
    "plt.plot(learn_curve['test_rolling'], lw=4, label='test_rolling',alpha=.5,color='k')\n",
    "plt.legend(loc='best', fontsize=16)"
   ]
  },
  {
   "cell_type": "code",
   "execution_count": null,
   "metadata": {
    "collapsed": true,
    "scrolled": false
   },
   "outputs": [],
   "source": []
  },
  {
   "cell_type": "code",
   "execution_count": null,
   "metadata": {
    "collapsed": true
   },
   "outputs": [],
   "source": []
  },
  {
   "cell_type": "code",
   "execution_count": null,
   "metadata": {
    "collapsed": true
   },
   "outputs": [],
   "source": []
  },
  {
   "cell_type": "markdown",
   "metadata": {},
   "source": [
    "### Model Summary"
   ]
  },
  {
   "cell_type": "code",
   "execution_count": 73,
   "metadata": {},
   "outputs": [
    {
     "name": "stdout",
     "output_type": "stream",
     "text": [
      "_________________________________________________________________\n",
      "Layer (type)                 Output Shape              Param #   \n",
      "=================================================================\n",
      "input_1 (InputLayer)         (None, 64, 64, 1)         0         \n",
      "_________________________________________________________________\n",
      "conv2d_1 (Conv2D)            (None, 64, 64, 12)        120       \n",
      "_________________________________________________________________\n",
      "max_pooling2d_1 (MaxPooling2 (None, 32, 32, 12)        0         \n",
      "_________________________________________________________________\n",
      "conv2d_2 (Conv2D)            (None, 32, 32, 24)        2616      \n",
      "_________________________________________________________________\n",
      "max_pooling2d_2 (MaxPooling2 (None, 16, 16, 24)        0         \n",
      "_________________________________________________________________\n",
      "conv2d_3 (Conv2D)            (None, 16, 16, 48)        10416     \n",
      "_________________________________________________________________\n",
      "max_pooling2d_3 (MaxPooling2 (None, 8, 8, 48)          0         \n",
      "_________________________________________________________________\n",
      "conv2d_4 (Conv2D)            (None, 8, 8, 96)          41568     \n",
      "_________________________________________________________________\n",
      "max_pooling2d_4 (MaxPooling2 (None, 4, 4, 96)          0         \n",
      "_________________________________________________________________\n",
      "dropout_1 (Dropout)          (None, 4, 4, 96)          0         \n",
      "_________________________________________________________________\n",
      "flatten_1 (Flatten)          (None, 1536)              0         \n",
      "_________________________________________________________________\n",
      "dense_1 (Dense)              (None, 256)               393472    \n",
      "_________________________________________________________________\n",
      "dropout_2 (Dropout)          (None, 256)               0         \n",
      "_________________________________________________________________\n",
      "dense_2 (Dense)              (None, 256)               65792     \n",
      "_________________________________________________________________\n",
      "dense_3 (Dense)              (None, 121)               31097     \n",
      "=================================================================\n",
      "Total params: 545,081\n",
      "Trainable params: 545,081\n",
      "Non-trainable params: 0\n",
      "_________________________________________________________________\n"
     ]
    }
   ],
   "source": [
    "#review model\n",
    "model.summary()"
   ]
  },
  {
   "cell_type": "code",
   "execution_count": null,
   "metadata": {
    "collapsed": true
   },
   "outputs": [],
   "source": []
  },
  {
   "cell_type": "code",
   "execution_count": 74,
   "metadata": {
    "collapsed": true
   },
   "outputs": [],
   "source": [
    "# from keras.utils import plot_model\n",
    "# plot_model(history.model, to_file='model.png')"
   ]
  },
  {
   "cell_type": "code",
   "execution_count": null,
   "metadata": {
    "collapsed": true
   },
   "outputs": [],
   "source": []
  },
  {
   "cell_type": "code",
   "execution_count": null,
   "metadata": {
    "collapsed": true
   },
   "outputs": [],
   "source": []
  },
  {
   "cell_type": "markdown",
   "metadata": {},
   "source": [
    "# Export model (history, summary and learning curves)"
   ]
  },
  {
   "cell_type": "code",
   "execution_count": 75,
   "metadata": {
    "collapsed": true
   },
   "outputs": [],
   "source": [
    "# add any notes here\n",
    "notes='double_kernel_size_termatismeno'"
   ]
  },
  {
   "cell_type": "code",
   "execution_count": 76,
   "metadata": {
    "collapsed": true
   },
   "outputs": [],
   "source": [
    "#set filename\n",
    "time= datetime.now().strftime('%m-%d %H.%M, ')\n",
    "errors = 'train_err=%.2f, test_err=%.2f'%(mod_history.history['acc'][-1],mod_history.history['val_acc'][-1])\n",
    "ffilename = 'trainHistory/'+time+errors+notes"
   ]
  },
  {
   "cell_type": "markdown",
   "metadata": {},
   "source": [
    "# TODO history.history only contains errors"
   ]
  },
  {
   "cell_type": "code",
   "execution_count": 77,
   "metadata": {
    "collapsed": true
   },
   "outputs": [],
   "source": [
    "#export model history\n",
    "with open(ffilename + '.pickle', 'wb') as file_pi:\n",
    "    pickle.dump(mod_history.history, file_pi)"
   ]
  },
  {
   "cell_type": "code",
   "execution_count": 78,
   "metadata": {
    "collapsed": true
   },
   "outputs": [],
   "source": [
    "#export model\n",
    "model.save(ffilename+'.h5')"
   ]
  },
  {
   "cell_type": "code",
   "execution_count": 79,
   "metadata": {
    "collapsed": true
   },
   "outputs": [],
   "source": [
    "# save model summary (layer architecture etc)\n",
    "with open(ffilename + '_summary.txt','w') as fh:\n",
    "    # Pass the file handle in as a lambda function to make it callable\n",
    "    model.summary(print_fn=lambda x: fh.write(x + '\\n'))"
   ]
  },
  {
   "cell_type": "code",
   "execution_count": 80,
   "metadata": {
    "collapsed": true
   },
   "outputs": [],
   "source": [
    "# save learning curve image\n",
    "fig.savefig(ffilename+'_learning_curve.png')"
   ]
  },
  {
   "cell_type": "code",
   "execution_count": null,
   "metadata": {
    "collapsed": true
   },
   "outputs": [],
   "source": []
  },
  {
   "cell_type": "code",
   "execution_count": null,
   "metadata": {
    "collapsed": true
   },
   "outputs": [],
   "source": []
  },
  {
   "cell_type": "markdown",
   "metadata": {},
   "source": [
    "# Evaluate model on validation set"
   ]
  },
  {
   "cell_type": "code",
   "execution_count": 66,
   "metadata": {
    "collapsed": true
   },
   "outputs": [],
   "source": [
    "# model.evaluate(X_predict_transf, y, verbose=1)"
   ]
  },
  {
   "cell_type": "code",
   "execution_count": null,
   "metadata": {
    "collapsed": true
   },
   "outputs": [],
   "source": []
  },
  {
   "cell_type": "markdown",
   "metadata": {
    "collapsed": true
   },
   "source": [
    "# Predict values for test (Kaggle) dataset"
   ]
  },
  {
   "cell_type": "code",
   "execution_count": null,
   "metadata": {
    "collapsed": true
   },
   "outputs": [],
   "source": []
  },
  {
   "cell_type": "markdown",
   "metadata": {},
   "source": [
    "## I will load a new model from disk here!"
   ]
  },
  {
   "cell_type": "code",
   "execution_count": null,
   "metadata": {
    "collapsed": true
   },
   "outputs": [],
   "source": []
  },
  {
   "cell_type": "markdown",
   "metadata": {},
   "source": [
    "## Make sure X_transf and X_predict_transf  and have undergone same transformations!"
   ]
  },
  {
   "cell_type": "markdown",
   "metadata": {},
   "source": [
    "## Make sure batch size is same as above"
   ]
  },
  {
   "cell_type": "code",
   "execution_count": null,
   "metadata": {
    "collapsed": true
   },
   "outputs": [],
   "source": [
    "#batch_size"
   ]
  },
  {
   "cell_type": "code",
   "execution_count": 35,
   "metadata": {
    "collapsed": true
   },
   "outputs": [],
   "source": [
    "model_from_disk = keras.models.load_model('trainHistory/12-01 15.02, train_err=0.71, test_err=0.59small_basic_net_i_30.h5')"
   ]
  },
  {
   "cell_type": "code",
   "execution_count": null,
   "metadata": {
    "collapsed": true
   },
   "outputs": [],
   "source": [
    "model_from_disk.predict(X_predict_transf,batch_size=batch_size,verbose=1)"
   ]
  },
  {
   "cell_type": "code",
   "execution_count": null,
   "metadata": {
    "collapsed": true
   },
   "outputs": [],
   "source": []
  },
  {
   "cell_type": "code",
   "execution_count": 37,
   "metadata": {},
   "outputs": [
    {
     "data": {
      "text/plain": [
       "array([[[[  0.],\n",
       "         [  0.],\n",
       "         [  0.],\n",
       "         ..., \n",
       "         [  0.],\n",
       "         [  0.],\n",
       "         [  0.]],\n",
       "\n",
       "        [[  0.],\n",
       "         [  0.],\n",
       "         [  0.],\n",
       "         ..., \n",
       "         [  0.],\n",
       "         [  0.],\n",
       "         [  0.]],\n",
       "\n",
       "        [[  0.],\n",
       "         [  0.],\n",
       "         [  1.],\n",
       "         ..., \n",
       "         [  0.],\n",
       "         [  0.],\n",
       "         [  0.]],\n",
       "\n",
       "        ..., \n",
       "        [[  0.],\n",
       "         [  0.],\n",
       "         [  0.],\n",
       "         ..., \n",
       "         [  0.],\n",
       "         [  0.],\n",
       "         [  0.]],\n",
       "\n",
       "        [[  0.],\n",
       "         [  0.],\n",
       "         [  0.],\n",
       "         ..., \n",
       "         [  0.],\n",
       "         [  0.],\n",
       "         [  0.]],\n",
       "\n",
       "        [[  0.],\n",
       "         [  0.],\n",
       "         [  0.],\n",
       "         ..., \n",
       "         [  0.],\n",
       "         [  0.],\n",
       "         [  0.]]],\n",
       "\n",
       "\n",
       "       [[[  0.],\n",
       "         [  0.],\n",
       "         [  0.],\n",
       "         ..., \n",
       "         [  0.],\n",
       "         [  0.],\n",
       "         [  0.]],\n",
       "\n",
       "        [[  0.],\n",
       "         [  0.],\n",
       "         [  0.],\n",
       "         ..., \n",
       "         [  0.],\n",
       "         [  0.],\n",
       "         [  0.]],\n",
       "\n",
       "        [[  0.],\n",
       "         [  0.],\n",
       "         [  0.],\n",
       "         ..., \n",
       "         [  0.],\n",
       "         [  0.],\n",
       "         [  0.]],\n",
       "\n",
       "        ..., \n",
       "        [[  0.],\n",
       "         [  0.],\n",
       "         [  0.],\n",
       "         ..., \n",
       "         [  0.],\n",
       "         [  0.],\n",
       "         [  0.]],\n",
       "\n",
       "        [[  0.],\n",
       "         [  0.],\n",
       "         [  0.],\n",
       "         ..., \n",
       "         [  0.],\n",
       "         [  0.],\n",
       "         [  0.]],\n",
       "\n",
       "        [[  0.],\n",
       "         [  0.],\n",
       "         [  0.],\n",
       "         ..., \n",
       "         [  0.],\n",
       "         [  0.],\n",
       "         [  0.]]],\n",
       "\n",
       "\n",
       "       [[[  0.],\n",
       "         [  0.],\n",
       "         [  0.],\n",
       "         ..., \n",
       "         [  0.],\n",
       "         [  0.],\n",
       "         [  0.]],\n",
       "\n",
       "        [[  0.],\n",
       "         [  0.],\n",
       "         [  0.],\n",
       "         ..., \n",
       "         [  0.],\n",
       "         [  0.],\n",
       "         [  0.]],\n",
       "\n",
       "        [[  0.],\n",
       "         [  0.],\n",
       "         [  0.],\n",
       "         ..., \n",
       "         [  0.],\n",
       "         [  0.],\n",
       "         [  0.]],\n",
       "\n",
       "        ..., \n",
       "        [[  0.],\n",
       "         [  0.],\n",
       "         [  0.],\n",
       "         ..., \n",
       "         [  0.],\n",
       "         [  0.],\n",
       "         [  0.]],\n",
       "\n",
       "        [[  0.],\n",
       "         [  0.],\n",
       "         [  0.],\n",
       "         ..., \n",
       "         [  0.],\n",
       "         [  0.],\n",
       "         [  0.]],\n",
       "\n",
       "        [[  0.],\n",
       "         [  0.],\n",
       "         [  0.],\n",
       "         ..., \n",
       "         [  0.],\n",
       "         [  0.],\n",
       "         [  0.]]],\n",
       "\n",
       "\n",
       "       ..., \n",
       "       [[[  0.],\n",
       "         [  0.],\n",
       "         [  0.],\n",
       "         ..., \n",
       "         [  0.],\n",
       "         [  0.],\n",
       "         [  0.]],\n",
       "\n",
       "        [[  0.],\n",
       "         [  0.],\n",
       "         [  0.],\n",
       "         ..., \n",
       "         [  0.],\n",
       "         [  0.],\n",
       "         [  0.]],\n",
       "\n",
       "        [[  0.],\n",
       "         [  0.],\n",
       "         [  0.],\n",
       "         ..., \n",
       "         [  0.],\n",
       "         [  0.],\n",
       "         [  0.]],\n",
       "\n",
       "        ..., \n",
       "        [[  0.],\n",
       "         [  0.],\n",
       "         [  0.],\n",
       "         ..., \n",
       "         [  0.],\n",
       "         [  0.],\n",
       "         [  0.]],\n",
       "\n",
       "        [[  0.],\n",
       "         [  0.],\n",
       "         [  0.],\n",
       "         ..., \n",
       "         [  0.],\n",
       "         [  0.],\n",
       "         [  0.]],\n",
       "\n",
       "        [[  0.],\n",
       "         [  0.],\n",
       "         [  0.],\n",
       "         ..., \n",
       "         [  0.],\n",
       "         [  0.],\n",
       "         [  0.]]],\n",
       "\n",
       "\n",
       "       [[[  0.],\n",
       "         [  0.],\n",
       "         [  0.],\n",
       "         ..., \n",
       "         [  0.],\n",
       "         [  0.],\n",
       "         [  0.]],\n",
       "\n",
       "        [[  1.],\n",
       "         [  5.],\n",
       "         [  8.],\n",
       "         ..., \n",
       "         [  0.],\n",
       "         [  0.],\n",
       "         [  0.]],\n",
       "\n",
       "        [[ 11.],\n",
       "         [ 13.],\n",
       "         [ 14.],\n",
       "         ..., \n",
       "         [  0.],\n",
       "         [  0.],\n",
       "         [  0.]],\n",
       "\n",
       "        ..., \n",
       "        [[  0.],\n",
       "         [  0.],\n",
       "         [  0.],\n",
       "         ..., \n",
       "         [  0.],\n",
       "         [  0.],\n",
       "         [  0.]],\n",
       "\n",
       "        [[  0.],\n",
       "         [  0.],\n",
       "         [  0.],\n",
       "         ..., \n",
       "         [  0.],\n",
       "         [  0.],\n",
       "         [  0.]],\n",
       "\n",
       "        [[  0.],\n",
       "         [  0.],\n",
       "         [  0.],\n",
       "         ..., \n",
       "         [  0.],\n",
       "         [  0.],\n",
       "         [  0.]]],\n",
       "\n",
       "\n",
       "       [[[  0.],\n",
       "         [  0.],\n",
       "         [  0.],\n",
       "         ..., \n",
       "         [  0.],\n",
       "         [  0.],\n",
       "         [  0.]],\n",
       "\n",
       "        [[  0.],\n",
       "         [  0.],\n",
       "         [  0.],\n",
       "         ..., \n",
       "         [  0.],\n",
       "         [  0.],\n",
       "         [  0.]],\n",
       "\n",
       "        [[  0.],\n",
       "         [  0.],\n",
       "         [  0.],\n",
       "         ..., \n",
       "         [  0.],\n",
       "         [  0.],\n",
       "         [  0.]],\n",
       "\n",
       "        ..., \n",
       "        [[  0.],\n",
       "         [ 14.],\n",
       "         [ 23.],\n",
       "         ..., \n",
       "         [  0.],\n",
       "         [  0.],\n",
       "         [  0.]],\n",
       "\n",
       "        [[  1.],\n",
       "         [  5.],\n",
       "         [ 10.],\n",
       "         ..., \n",
       "         [  0.],\n",
       "         [  0.],\n",
       "         [  0.]],\n",
       "\n",
       "        [[  1.],\n",
       "         [  0.],\n",
       "         [  1.],\n",
       "         ..., \n",
       "         [  0.],\n",
       "         [  0.],\n",
       "         [  0.]]]])"
      ]
     },
     "execution_count": 37,
     "metadata": {},
     "output_type": "execute_result"
    }
   ],
   "source": [
    "X_predict_transf"
   ]
  },
  {
   "cell_type": "code",
   "execution_count": null,
   "metadata": {
    "collapsed": true
   },
   "outputs": [],
   "source": [
    "model"
   ]
  },
  {
   "cell_type": "code",
   "execution_count": null,
   "metadata": {
    "collapsed": true
   },
   "outputs": [],
   "source": []
  },
  {
   "cell_type": "code",
   "execution_count": null,
   "metadata": {
    "collapsed": true
   },
   "outputs": [],
   "source": []
  }
 ],
 "metadata": {
  "kernelspec": {
   "display_name": "Python [conda env:kaggle]",
   "language": "python",
   "name": "conda-env-kaggle-py"
  },
  "language_info": {
   "codemirror_mode": {
    "name": "ipython",
    "version": 3
   },
   "file_extension": ".py",
   "mimetype": "text/x-python",
   "name": "python",
   "nbconvert_exporter": "python",
   "pygments_lexer": "ipython3",
   "version": "3.6.2"
  }
 },
 "nbformat": 4,
 "nbformat_minor": 2
}
